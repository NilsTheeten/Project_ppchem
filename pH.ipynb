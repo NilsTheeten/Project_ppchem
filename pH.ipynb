{
 "cells": [
  {
   "cell_type": "code",
   "execution_count": 5,
   "id": "34277ebf-91ca-4e38-9666-930f5d94db99",
   "metadata": {
    "tags": []
   },
   "outputs": [],
   "source": [
    "from sympy import symbols, Eq, solve\n",
    "import math\n",
    "\n",
    "#A charge of compounds dictionary is needed for the charge \n",
    "\n",
    "#If the salts of strong acids and bases have been used in the solution, such as NaCl, \n",
    "#the concentrations of compounds Na and Cl coming from this salt have to be removed from trad_salt_elements as they don't contribute to the pH.\n",
    "# They also won't contribute to charge balance as the two charged compounds from the salt will cancel out. \n",
    "\n",
    "\n",
    "\"retrieve Ka value\" \n",
    "def pH (concentration_of_compounds_in_solution, temperature):\n",
    "    #setting index for compounds possesing pKa values\n",
    "    i=0\n",
    "    #setting index for compounds possesing Ksp values (metals)\n",
    "    l=0\n",
    "    #setting variable of the concentration of protons in solution\n",
    "    H_plus_concentration=symbols(\"H_plus_concentration\")\n",
    "    #setting variable of the concentration of OH- in solution \n",
    "    OH_minus_concentration=symbols(\"OH_minus_concentration\")\n",
    "    \n",
    "    # Defines system of equations\n",
    "    equations = []\n",
    "    \n",
    "    # Initialize a variable to accumulate known values for charge balance calculations \n",
    "    accumulated_known_values_for_charge_balance = 0\n",
    "    # Initialize a variable to accumulate variables for charge balance calculations \n",
    "    accumulated_variables_for_charge_balance = 0\n",
    "    # Determines the ionization constant of water (Kw) at a specific temperature\n",
    "    Kw=Value_of_Ionisation_Constant(temperature)\n",
    "    # Defines the equation for the ionization constant of water\n",
    "    Kw_equation=eq(H_plus_concentration*OH_minus_concentration,Kw)\n",
    "    equations.append(Kw_equation)\n",
    "    #Adding OH_minus and H_plus to charge balance\n",
    "    accumulated_variables_for_charge_balance+=H_plus_concentration-OH_minus_concentration \n",
    "\n",
    "    for compound, compound_concentration in concentration_of_compounds_in_solution:\n",
    "        #Below, it is checked as to whether or not the compound has a solubility product constant or an acid dissociation constant. The former allows one to define the impact that metal ions have on the pH of the solution\n",
    "        #One can see Ksp having an impact on the pH with the example that follows. We have an initial salt we place in a solution, i.e, CaSO4, which then dissociates into Ca^2+ and SO4^2-. \n",
    "        #There is then a Ksp constant that depends on the concentration of Ca^2+, OH^-1 and Ca(OH)2 and a Ka value that depends on the concentration of SO4^2-, HSO4^1- and H2SO4 as well as H+\n",
    "        #The Ksp constant has an impact on the concentration of OH^-1 which in itself impact the pH of the solution.\n",
    "        if compound in Ksp_values:\n",
    "            #Defines a constant for the initial concentration of the compound\n",
    "            globals()[f'Ksp_value_of_compound_{l}']=Ksp_values[compound]\n",
    "            #Defines variables for the concentrations of the metal in a dissociated state or not, i.e, Ca(OH)^2- or Ca^2+\n",
    "            exec(\"dissociated_metal_{}_concentration=symbols('dissociated_metal_{}_concentration')\".format(l,l))\n",
    "            exec(\"undissociated_metal_compound_{}_concentration=symbols('undissociated_metal_compound_{}_concentration')\".format(l,l))\n",
    "            #Equation of dissociation equilibrium\n",
    "            exec(f\"globals()['equation_Ksp_{l}'] = Eq(({OH_minus_concentration}*['dissociated_metal_{l}_concentration'])/['undissociated_metal_{l}_concentration'], globals()['Ksp_value_of_compound_{l}'])\")\n",
    "            equations.append(f'equation_Ksp_{l}')\n",
    "            # Accumulating variables for charge balance. \n",
    "            accumulated_variables_for_charge_balance+=compound_charge[compound]*f'dissociated_metal_{l}_concentration'\n",
    "            #Mass equation of metal/metal compound\n",
    "            exec(f\"mass_equation_metal_{l} = Eq(dissociated_metal_{l}_concentration + undissociated_metal_{l}_concentration, compound_concentration)\")\n",
    "            equations.append(f'mass_equation_metal_{l}')\n",
    "            l+=1\n",
    "                \n",
    "        else: \n",
    "            #Defines the constant that is the initial concentration of the compound \n",
    "            globals()[f'initial_compound_concentration_{i}']=compound_concentration \n",
    "            #Initialize a variable to accumulate the variables of the concentrations into one equation of mass balance\n",
    "            accumulated_variables_for_mass_balance=0\n",
    "            #Determines the number of states a compound is in whose concentrations define one of the known Ka values of the compound, there could be more states, but they are negligeable. \n",
    "            number_of_states_of_dissociation=len(pKa_values[compound])\n",
    "            if number_of_states_of_dissociation!=1:\n",
    "                for s in range (number_of_states_of_dissociation):\n",
    "                    #derives the Ka_th value of a compound\n",
    "                    globals()[f'Ka_{s}_value_of_compound_{i}']=float(10**(-pKa_values[compound][s]))\n",
    "                    #This line below generates symbolic variables representing the concentrations of \n",
    "                    #different forms of a compound, where each variable corresponds to a state of dissociation \"s\" of compound \"i\" .\n",
    "                    exec(\"A_{}_{}_concentration= symbols('A_{}_{}_concentration')\".format(s,i,s,i))\n",
    "                    # Accumulating variables for charge balance. Here s is used as a substitute for the charge as we have multiple charges which depend on the state of the compound.\n",
    "                    accumulated_variables_for_charge_balance+=(highest_existing_charge_of_compounds[compound]-s)*f'A_{s}_{i}_concentration'\n",
    "                for s in range(number_of_states_of_dissociation):\n",
    "                    accumulated_variables_for_mass_balance+=f'A_{s}_{i}_concentration'\n",
    "                    if s!=number_of_states_of_dissociation:\n",
    "                        exec(f\"globals()['equation_Ka_{s}_{i}'] = Eq(({H_plus_concentration}*['A_{s+1}_{i}_concentration'])/['A_{s}_{i}_concentration'],[Ka_{s}_value_of_compound_{i}])\")\n",
    "                        equations.append(f'equation_Ka_{s}_{i}')\n",
    "                mass_equation_i=Eq(accumulated_variables_for_mass_balance,compound_concentration)\n",
    "                equations.append(mass_equation_i)\n",
    "                i+=1\n",
    "    Charge_Balance_equation= Eq(accumulated_variables_for_charge_balance, 0)\n",
    "    equations.append(Charge_Balance_equation)\n",
    "    solution = solve(equations, (H_plus_concentration, OH_minus_concentration))\n",
    "    pH=-math.log(solution[0])\n",
    "    return pH \n",
    "\n",
    "\n",
    "\n",
    "Test_concentration_of_solution = {\n",
    "    \"Ca\": 0.036,\n",
    "    \"Mg\": 0.013,\n",
    "    \"K\": 0.296,\n",
    "    \"PO4\": 0.026,\n",
    "    \"BO3\":0.050,\n",
    "    \"Mn\": 0.0003,\n",
    "    \"Zn\": 0.0003,\n",
    "    \"Cu\": 0.00005,\n",
    "    \"Fe(3+)\": 0.0012,\n",
    "    \"NO3\": 0,\n",
    "    \"SO4\": 0,\n",
    "    \"Cl\" : 0,\n",
    "    \"NH4\" : 0,}\n",
    "\n",
    "Ksp_values={\n",
    "    \"Ca\": 7.9*10**(-6),\n",
    "    \"Mg\": 1.5*10**(-11),\n",
    "    \"K\": 10**4, #Complete dissociation of KOH \n",
    "    \"Mn\": 4.6*10**(-14),\n",
    "    \"Zn\": 4.5*10**(-17),\n",
    "    \"Cu\": 1.6*10**(-19),\n",
    "    \"Fe(3+)\": 6.3*10**(-38),}\n",
    "\n",
    "pKa_values={\n",
    "    \"PO4\": [2.12,7.21,12.32],\n",
    "    \"BO3\":[9.24,12.4,13.3],\n",
    "    \"NO3\":[-1.4],\n",
    "    \"SO4\": [-3,1.9],\n",
    "    \"Cl\" : 0,\n",
    "    \"NH4\" : 0,}"
   ]
  },
  {
   "cell_type": "code",
   "execution_count": 8,
   "id": "a065d831-09c5-489a-bd28-8ef5ac61110d",
   "metadata": {
    "tags": []
   },
   "outputs": [
    {
     "data": {
      "text/plain": [
       "4"
      ]
     },
     "execution_count": 8,
     "metadata": {},
     "output_type": "execute_result"
    }
   ],
   "source": [
    "from sympy import symbols, Eq, solve\n",
    "\n",
    "globals()[f'compound_concentration_{3}']=4\n",
    "compound_concentration_3\n"
   ]
  },
  {
   "cell_type": "code",
   "execution_count": 9,
   "id": "003090db-c26b-4b07-b094-e1691f75f55f",
   "metadata": {},
   "outputs": [
    {
     "name": "stdout",
     "output_type": "stream",
     "text": [
      "Solution: {C1: 19/7, C2: 6/7}\n"
     ]
    }
   ],
   "source": [
    "from sympy import symbols\n",
    "\n",
    "# Define the number of variables\n",
    "n = 5  # You can change this to the desired number\n",
    "variables=0\n",
    "# Define the symbols for the variables using a loop\n",
    "for i in range(1, n+1):\n",
    "    exec(\"C{} = symbols('C{}')\".format(i, i))\n",
    "\n",
    "eq1 = Eq(2*C1 + 3*C2, 8)\n",
    "eq2 = Eq(C1 - 2*C2, 1)\n",
    "solution = solve((eq1, eq2), (C1, C2))\n",
    "\n",
    "print(\"Solution:\", solution)\n"
   ]
  },
  {
   "cell_type": "code",
   "execution_count": null,
   "id": "c9fbe021-8125-4e18-bb47-f26677fa2bde",
   "metadata": {
    "tags": []
   },
   "outputs": [],
   "source": []
  },
  {
   "cell_type": "code",
   "execution_count": 10,
   "id": "42e66cdc-988a-4de4-8f7b-7c499449739d",
   "metadata": {
    "tags": []
   },
   "outputs": [
    {
     "name": "stdout",
     "output_type": "stream",
     "text": [
      "Eq(x + 2*y, 10)\n",
      "Eq(3*x + 4*y, 20)\n",
      "Solution: {x: 0, y: 5}\n"
     ]
    }
   ],
   "source": [
    "from sympy import symbols, Eq\n",
    "\n",
    "# Define symbols\n",
    "x, y = symbols('x y')\n",
    "\n",
    "# Define coefficients\n",
    "coefficients = [(1, 2), (3, 4), (5, 6), (7, 8), (9, 10)]\n",
    "constants = [10, 20, 30, 40, 50]\n",
    "\n",
    "# Create equations and assign them to dynamically named variables\n",
    "for i, (a, b) in enumerate(coefficients, start=1):\n",
    "    eq_name = f\"equation_{i}\"\n",
    "    c = constants[i-1]\n",
    "    globals()[eq_name] = Eq(a * x + b * y, c)\n",
    "\n",
    "# Now you have equations named equation_1, equation_2, ..., equation_5\n",
    "# You can directly access them by their names\n",
    "print(equation_1)\n",
    "print(equation_2)\n",
    "# And so on...\n",
    "solution = solve((equation_1, equation_2), (x, y))\n",
    "print(\"Solution:\", solution)\n"
   ]
  },
  {
   "cell_type": "code",
   "execution_count": 30,
   "id": "12989876-99c5-4164-acb7-0b817150719a",
   "metadata": {},
   "outputs": [
    {
     "name": "stdout",
     "output_type": "stream",
     "text": [
      "pKa values of Acetic Acid: 4.76\n",
      "pKa values of Phenol: [9.95, 19.0]\n"
     ]
    }
   ],
   "source": [
    "# Dictionary of pKa values\n",
    "pKa_values = {\n",
    "    \"Acetic Acid\": [4.76],\n",
    "    \"Ammonium\": [9.25],\n",
    "    \"Phenol\": [9.95, 19.0],\n",
    "    \"Carbonic Acid\": [6.37, 10.25]\n",
    "}\n",
    "\n",
    "# Accessing pKa values\n",
    "print(\"pKa values of Acetic Acid:\", pKa_values[\"Acetic Acid\"][0])\n",
    "print(\"pKa values of Phenol:\", pKa_values[\"Phenol\"])\n"
   ]
  },
  {
   "cell_type": "code",
   "execution_count": 47,
   "id": "66d5a345-82de-4214-8244-487954ef4f25",
   "metadata": {
    "tags": []
   },
   "outputs": [
    {
     "name": "stdout",
     "output_type": "stream",
     "text": [
      "[5]\n"
     ]
    }
   ],
   "source": [
    "s=1\n",
    "i=3\n",
    "exec(\"A_{}_concentration_{} = symbols('A_{}_concentration_{}')\".format(s,i,s,i))\n",
    "equation_1=Eq(A_1_concentration_3,5)\n",
    "solution=solve(equation_1,(A_1_concentration_3))\n",
    "print(solution)\n"
   ]
  },
  {
   "cell_type": "code",
   "execution_count": 51,
   "id": "3e464f3a-31a7-4e1a-ad82-7a00e01b14e7",
   "metadata": {
    "tags": []
   },
   "outputs": [
    {
     "name": "stdout",
     "output_type": "stream",
     "text": [
      "0\n",
      "1\n",
      "2\n"
     ]
    }
   ],
   "source": [
    "p=[0,4,1]\n",
    "\n",
    "for m in range(len(p)): \n",
    "    print(m)"
   ]
  },
  {
   "cell_type": "code",
   "execution_count": 6,
   "id": "46a5034b-ef2f-4a5b-b506-b53443c26979",
   "metadata": {},
   "outputs": [
    {
     "name": "stdout",
     "output_type": "stream",
     "text": [
      "d does not exist in the dictionary.\n"
     ]
    }
   ],
   "source": [
    "my_dict = {'a': 1, 'b': 2, 'c': 3}\n",
    "\n",
    "element_to_check = 'd'\n",
    "\n",
    "if element_to_check in my_dict:\n",
    "    print(f\"{element_to_check} exists in the dictionary.\")\n",
    "else:\n",
    "    print(f\"{element_to_check} does not exist in the dictionary.\")\n"
   ]
  },
  {
   "cell_type": "code",
   "execution_count": null,
   "id": "fcb26796-d71d-41cf-a99d-0f182b12ec39",
   "metadata": {},
   "outputs": [],
   "source": []
  }
 ],
 "metadata": {
  "kernelspec": {
   "display_name": "Python 3 (ipykernel)",
   "language": "python",
   "name": "python3"
  },
  "language_info": {
   "codemirror_mode": {
    "name": "ipython",
    "version": 3
   },
   "file_extension": ".py",
   "mimetype": "text/x-python",
   "name": "python",
   "nbconvert_exporter": "python",
   "pygments_lexer": "ipython3",
   "version": "3.11.5"
  }
 },
 "nbformat": 4,
 "nbformat_minor": 5
}
