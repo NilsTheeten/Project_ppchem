{
 "cells": [
  {
   "cell_type": "code",
   "execution_count": 1,
   "id": "a3e901d7",
   "metadata": {},
   "outputs": [],
   "source": [
    "python_colors = ['b', 'g', 'r', 'c', 'm', 'y', 'k', 'w',\n",
    "                 'tab:blue', 'tab:orange', 'tab:green', 'tab:red', 'tab:purple', 'tab:brown', 'tab:pink', 'tab:gray', 'tab:olive', 'tab:cyan',\n",
    "                 'mediumblue', 'darkorange', 'limegreen', 'indianred', 'violet', 'sienna', 'deepskyblue', 'peru', 'gold']\n"
   ]
  },
  {
   "cell_type": "code",
   "execution_count": 1,
   "id": "e2139ed6-ff59-4f9e-a031-f2ef86e45321",
   "metadata": {
    "tags": []
   },
   "outputs": [
    {
     "ename": "ModuleNotFoundError",
     "evalue": "No module named 'function'",
     "output_type": "error",
     "traceback": [
      "\u001b[1;31m---------------------------------------------------------------------------\u001b[0m",
      "\u001b[1;31mModuleNotFoundError\u001b[0m                       Traceback (most recent call last)",
      "Cell \u001b[1;32mIn[1], line 5\u001b[0m\n\u001b[0;32m      3\u001b[0m \u001b[38;5;28;01mimport\u001b[39;00m \u001b[38;5;21;01mos\u001b[39;00m\n\u001b[0;32m      4\u001b[0m \u001b[38;5;28;01mimport\u001b[39;00m \u001b[38;5;21;01mnumpy\u001b[39;00m \u001b[38;5;28;01mas\u001b[39;00m \u001b[38;5;21;01mnp\u001b[39;00m\n\u001b[1;32m----> 5\u001b[0m \u001b[38;5;28;01mimport\u001b[39;00m \u001b[38;5;21;01mfunction\u001b[39;00m \u001b[38;5;28;01mas\u001b[39;00m \u001b[38;5;21;01mf\u001b[39;00m\n\u001b[0;32m      8\u001b[0m \u001b[38;5;28;01mdef\u001b[39;00m \u001b[38;5;21mplot_graph\u001b[39m(salts: \u001b[38;5;28mdict\u001b[39m, unit:\u001b[38;5;28mstr\u001b[39m, plant:\u001b[38;5;28mstr\u001b[39m, duration:\u001b[38;5;28mfloat\u001b[39m):\n\u001b[0;32m      9\u001b[0m \u001b[38;5;250m    \u001b[39m\u001b[38;5;124;03m\"\"\"Creates graph of salts in hydroponic solution\u001b[39;00m\n\u001b[0;32m     10\u001b[0m \n\u001b[0;32m     11\u001b[0m \u001b[38;5;124;03m    Args:\u001b[39;00m\n\u001b[1;32m   (...)\u001b[0m\n\u001b[0;32m     15\u001b[0m \u001b[38;5;124;03m        float (float): duration of the simulation\u001b[39;00m\n\u001b[0;32m     16\u001b[0m \u001b[38;5;124;03m    \"\"\"\u001b[39;00m\n",
      "\u001b[1;31mModuleNotFoundError\u001b[0m: No module named 'function'"
     ]
    }
   ],
   "source": [
    "import pandas as pd\n",
    "import matplotlib.pyplot as plt\n",
    "import os\n",
    "import numpy as np\n",
    "import function as f\n",
    "\n",
    "\n",
    "def plot_graph(salts: dict, unit:str, plant:str, duration:float):\n",
    "    \"\"\"Creates graph of salts in hydroponic solution\n",
    "\n",
    "    Args:\n",
    "        salts (dict): salts in the solution\n",
    "        unit (str): unit of the time (e.g. days, hours)\n",
    "        plant (str): name of the plant (e.g. tomato, cucumber, lettuce)\n",
    "        float (float): duration of the simulation\n",
    "    \"\"\"\n",
    "    \n",
    "    \n",
    "    plt.figure(figsize=(12, 6), dpi = 300) #dpi: image resolution \n",
    "    plt.title('Salts in hydroponic solution', fontsize=14, weight='bold')\n",
    "    plt.xlabel(f'Time [{unit}]', fontsize=12)\n",
    "    plt.ylabel('Concentration of the salt [g/L]', fontsize=12)\n",
    "    plt.grid(False)\n",
    "    \n",
    "    # Add a subtle background color\n",
    "    plt.gca().set_facecolor('#f9f9f9')\n",
    "    # Remove spines for cleaner appearance\n",
    "    plt.gca().spines['top'].set_visible(False)\n",
    "    plt.gca().spines['right'].set_visible(False)\n",
    "    \n",
    "    \n",
    "    i = 0\n",
    "    for salts in salts.keys():\n",
    "        data = f(salts, unit, plant, duration)\n",
    "        x = data[0]\n",
    "        y = data[1]\n",
    "        plt.plot(x, y, label = salts, color = python_colors[i], linewidth=1.5, linestyle='-', marker='o', markersize=3)\n",
    "        i+=1\n",
    "    \n",
    "        \n",
    "    plt.legend(loc='lower center')\n",
    "    \n",
    "    #Save Graph\n",
    "    download_folder = \"C:/Users/nilst/Documents/EPFL/BA_4/ppchem/Project/\"\n",
    "    file_path = os.path.join(download_folder, 'graph')\n",
    "    plt.savefig(file_path + \".png\", format='png')  # Save as a PNG file for matplotlib\n",
    "    \n",
    "    \n",
    "    \n",
    "plt.show()\n"
   ]
  },
  {
   "cell_type": "code",
   "execution_count": null,
   "id": "ee7dd023",
   "metadata": {},
   "outputs": [],
   "source": []
  },
  {
   "cell_type": "code",
   "execution_count": null,
   "id": "d823c5a3",
   "metadata": {},
   "outputs": [],
   "source": []
  },
  {
   "cell_type": "code",
   "execution_count": null,
   "id": "2db9d4af-4781-41b5-ba95-6020887ab981",
   "metadata": {},
   "outputs": [],
   "source": []
  }
 ],
 "metadata": {
  "kernelspec": {
   "display_name": "Python 3 (ipykernel)",
   "language": "python",
   "name": "python3"
  },
  "language_info": {
   "codemirror_mode": {
    "name": "ipython",
    "version": 3
   },
   "file_extension": ".py",
   "mimetype": "text/x-python",
   "name": "python",
   "nbconvert_exporter": "python",
   "pygments_lexer": "ipython3",
   "version": "3.11.5"
  }
 },
 "nbformat": 4,
 "nbformat_minor": 5
}
