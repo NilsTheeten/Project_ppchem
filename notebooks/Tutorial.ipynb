{
 "cells": [
  {
   "cell_type": "markdown",
   "metadata": {},
   "source": [
    "### Importing the package"
   ]
  },
  {
   "cell_type": "markdown",
   "metadata": {},
   "source": [
    "First, make sure you have installed the `hydroponics` package and the necessary dependencies. If not look at the instructions in the `README`"
   ]
  },
  {
   "cell_type": "markdown",
   "metadata": {},
   "source": [
    "Then import the `hydroponics` package by running"
   ]
  },
  {
   "cell_type": "code",
   "execution_count": 1,
   "metadata": {},
   "outputs": [],
   "source": [
    "import hydroponics as hp"
   ]
  },
  {
   "cell_type": "markdown",
   "metadata": {},
   "source": [
    "### Start using solutions"
   ]
  },
  {
   "cell_type": "markdown",
   "metadata": {},
   "source": [
    "This package uses dictionnaries to store the composition of a solution or the required nutriments of a plant. \n",
    "In general, the functions require `dict`where the keys are the name of an ion or salt and the values are the concentration in $[g/L]$. One can convert g/L to mol/L and vice-versa (see below). Some functions also accept input in both mass and molar concentrations."
   ]
  },
  {
   "cell_type": "code",
   "execution_count": 2,
   "metadata": {},
   "outputs": [],
   "source": [
    "concentration1 = 0.5 #g/L\n",
    "concentration2 = 2 #g/L\n",
    "solution_name = {\"salt1\": concentration1, \"salt2\": concentration2}"
   ]
  },
  {
   "cell_type": "markdown",
   "metadata": {},
   "source": [
    "One can also directly generate solutions from an excel file. Use the `import_solution_data` or `import_plant_data` functions for this. \n",
    "\n",
    "In the UserData.xls file, fill in the *My Solution* sheet with the composition of the solution, then use the following code to initialse the solution dict. The same can be done for a plant dict."
   ]
  },
  {
   "cell_type": "code",
   "execution_count": 3,
   "metadata": {},
   "outputs": [
    {
     "ename": "FileNotFoundError",
     "evalue": "[Errno 2] No such file or directory: 'C:\\\\Users\\\\nilst\\\\anaconda3\\\\envs\\\\test_hydroponic\\\\Lib\\\\site-packages\\\\hydroponics\\\\..\\\\..\\\\data\\\\UserData.xlsx'",
     "output_type": "error",
     "traceback": [
      "\u001b[1;31m---------------------------------------------------------------------------\u001b[0m",
      "\u001b[1;31mFileNotFoundError\u001b[0m                         Traceback (most recent call last)",
      "Cell \u001b[1;32mIn[3], line 4\u001b[0m\n\u001b[0;32m      1\u001b[0m solution_name \u001b[38;5;241m=\u001b[39m \u001b[38;5;124m\"\u001b[39m\u001b[38;5;124mfirst_solution\u001b[39m\u001b[38;5;124m\"\u001b[39m\n\u001b[0;32m      2\u001b[0m \u001b[38;5;66;03m#modify the excel file\u001b[39;00m\n\u001b[1;32m----> 4\u001b[0m first_solution_dict \u001b[38;5;241m=\u001b[39m \u001b[43mhp\u001b[49m\u001b[38;5;241;43m.\u001b[39;49m\u001b[43mimport_solution_data\u001b[49m\u001b[43m(\u001b[49m\u001b[43msolution_name\u001b[49m\u001b[43m)\u001b[49m\n\u001b[0;32m      5\u001b[0m \u001b[38;5;28mprint\u001b[39m(first_solution_dict)\n",
      "File \u001b[1;32mc:\\Users\\nilst\\anaconda3\\envs\\test_hydroponic\\Lib\\site-packages\\hydroponics\\Basic_functions.py:40\u001b[0m, in \u001b[0;36mimport_solution_data\u001b[1;34m(solution_name)\u001b[0m\n\u001b[0;32m     38\u001b[0m \u001b[38;5;66;03m# Read the Excel file\u001b[39;00m\n\u001b[0;32m     39\u001b[0m file_name \u001b[38;5;241m=\u001b[39m load_from_data(\u001b[38;5;124m\"\u001b[39m\u001b[38;5;124mUserData.xlsx\u001b[39m\u001b[38;5;124m\"\u001b[39m)\n\u001b[1;32m---> 40\u001b[0m df \u001b[38;5;241m=\u001b[39m \u001b[43mpd\u001b[49m\u001b[38;5;241;43m.\u001b[39;49m\u001b[43mread_excel\u001b[49m\u001b[43m(\u001b[49m\u001b[43mfile_name\u001b[49m\u001b[43m,\u001b[49m\u001b[43m \u001b[49m\u001b[43msheet_name\u001b[49m\u001b[38;5;241;43m=\u001b[39;49m\u001b[38;5;124;43m\"\u001b[39;49m\u001b[38;5;124;43mMy solution\u001b[39;49m\u001b[38;5;124;43m\"\u001b[39;49m\u001b[43m,\u001b[49m\u001b[43m \u001b[49m\u001b[43mskiprows\u001b[49m\u001b[38;5;241;43m=\u001b[39;49m\u001b[38;5;241;43m1\u001b[39;49m\u001b[43m)\u001b[49m\n\u001b[0;32m     41\u001b[0m \u001b[38;5;66;03m# Create a dictionary using zip and dictionary comprehension\u001b[39;00m\n\u001b[0;32m     42\u001b[0m \u001b[38;5;28;01mtry\u001b[39;00m:\n",
      "File \u001b[1;32mc:\\Users\\nilst\\anaconda3\\envs\\test_hydroponic\\Lib\\site-packages\\pandas\\io\\excel\\_base.py:495\u001b[0m, in \u001b[0;36mread_excel\u001b[1;34m(io, sheet_name, header, names, index_col, usecols, dtype, engine, converters, true_values, false_values, skiprows, nrows, na_values, keep_default_na, na_filter, verbose, parse_dates, date_parser, date_format, thousands, decimal, comment, skipfooter, storage_options, dtype_backend, engine_kwargs)\u001b[0m\n\u001b[0;32m    493\u001b[0m \u001b[38;5;28;01mif\u001b[39;00m \u001b[38;5;129;01mnot\u001b[39;00m \u001b[38;5;28misinstance\u001b[39m(io, ExcelFile):\n\u001b[0;32m    494\u001b[0m     should_close \u001b[38;5;241m=\u001b[39m \u001b[38;5;28;01mTrue\u001b[39;00m\n\u001b[1;32m--> 495\u001b[0m     io \u001b[38;5;241m=\u001b[39m \u001b[43mExcelFile\u001b[49m\u001b[43m(\u001b[49m\n\u001b[0;32m    496\u001b[0m \u001b[43m        \u001b[49m\u001b[43mio\u001b[49m\u001b[43m,\u001b[49m\n\u001b[0;32m    497\u001b[0m \u001b[43m        \u001b[49m\u001b[43mstorage_options\u001b[49m\u001b[38;5;241;43m=\u001b[39;49m\u001b[43mstorage_options\u001b[49m\u001b[43m,\u001b[49m\n\u001b[0;32m    498\u001b[0m \u001b[43m        \u001b[49m\u001b[43mengine\u001b[49m\u001b[38;5;241;43m=\u001b[39;49m\u001b[43mengine\u001b[49m\u001b[43m,\u001b[49m\n\u001b[0;32m    499\u001b[0m \u001b[43m        \u001b[49m\u001b[43mengine_kwargs\u001b[49m\u001b[38;5;241;43m=\u001b[39;49m\u001b[43mengine_kwargs\u001b[49m\u001b[43m,\u001b[49m\n\u001b[0;32m    500\u001b[0m \u001b[43m    \u001b[49m\u001b[43m)\u001b[49m\n\u001b[0;32m    501\u001b[0m \u001b[38;5;28;01melif\u001b[39;00m engine \u001b[38;5;129;01mand\u001b[39;00m engine \u001b[38;5;241m!=\u001b[39m io\u001b[38;5;241m.\u001b[39mengine:\n\u001b[0;32m    502\u001b[0m     \u001b[38;5;28;01mraise\u001b[39;00m \u001b[38;5;167;01mValueError\u001b[39;00m(\n\u001b[0;32m    503\u001b[0m         \u001b[38;5;124m\"\u001b[39m\u001b[38;5;124mEngine should not be specified when passing \u001b[39m\u001b[38;5;124m\"\u001b[39m\n\u001b[0;32m    504\u001b[0m         \u001b[38;5;124m\"\u001b[39m\u001b[38;5;124man ExcelFile - ExcelFile already has the engine set\u001b[39m\u001b[38;5;124m\"\u001b[39m\n\u001b[0;32m    505\u001b[0m     )\n",
      "File \u001b[1;32mc:\\Users\\nilst\\anaconda3\\envs\\test_hydroponic\\Lib\\site-packages\\pandas\\io\\excel\\_base.py:1550\u001b[0m, in \u001b[0;36mExcelFile.__init__\u001b[1;34m(self, path_or_buffer, engine, storage_options, engine_kwargs)\u001b[0m\n\u001b[0;32m   1548\u001b[0m     ext \u001b[38;5;241m=\u001b[39m \u001b[38;5;124m\"\u001b[39m\u001b[38;5;124mxls\u001b[39m\u001b[38;5;124m\"\u001b[39m\n\u001b[0;32m   1549\u001b[0m \u001b[38;5;28;01melse\u001b[39;00m:\n\u001b[1;32m-> 1550\u001b[0m     ext \u001b[38;5;241m=\u001b[39m \u001b[43minspect_excel_format\u001b[49m\u001b[43m(\u001b[49m\n\u001b[0;32m   1551\u001b[0m \u001b[43m        \u001b[49m\u001b[43mcontent_or_path\u001b[49m\u001b[38;5;241;43m=\u001b[39;49m\u001b[43mpath_or_buffer\u001b[49m\u001b[43m,\u001b[49m\u001b[43m \u001b[49m\u001b[43mstorage_options\u001b[49m\u001b[38;5;241;43m=\u001b[39;49m\u001b[43mstorage_options\u001b[49m\n\u001b[0;32m   1552\u001b[0m \u001b[43m    \u001b[49m\u001b[43m)\u001b[49m\n\u001b[0;32m   1553\u001b[0m     \u001b[38;5;28;01mif\u001b[39;00m ext \u001b[38;5;129;01mis\u001b[39;00m \u001b[38;5;28;01mNone\u001b[39;00m:\n\u001b[0;32m   1554\u001b[0m         \u001b[38;5;28;01mraise\u001b[39;00m \u001b[38;5;167;01mValueError\u001b[39;00m(\n\u001b[0;32m   1555\u001b[0m             \u001b[38;5;124m\"\u001b[39m\u001b[38;5;124mExcel file format cannot be determined, you must specify \u001b[39m\u001b[38;5;124m\"\u001b[39m\n\u001b[0;32m   1556\u001b[0m             \u001b[38;5;124m\"\u001b[39m\u001b[38;5;124man engine manually.\u001b[39m\u001b[38;5;124m\"\u001b[39m\n\u001b[0;32m   1557\u001b[0m         )\n",
      "File \u001b[1;32mc:\\Users\\nilst\\anaconda3\\envs\\test_hydroponic\\Lib\\site-packages\\pandas\\io\\excel\\_base.py:1402\u001b[0m, in \u001b[0;36minspect_excel_format\u001b[1;34m(content_or_path, storage_options)\u001b[0m\n\u001b[0;32m   1399\u001b[0m \u001b[38;5;28;01mif\u001b[39;00m \u001b[38;5;28misinstance\u001b[39m(content_or_path, \u001b[38;5;28mbytes\u001b[39m):\n\u001b[0;32m   1400\u001b[0m     content_or_path \u001b[38;5;241m=\u001b[39m BytesIO(content_or_path)\n\u001b[1;32m-> 1402\u001b[0m \u001b[38;5;28;01mwith\u001b[39;00m \u001b[43mget_handle\u001b[49m\u001b[43m(\u001b[49m\n\u001b[0;32m   1403\u001b[0m \u001b[43m    \u001b[49m\u001b[43mcontent_or_path\u001b[49m\u001b[43m,\u001b[49m\u001b[43m \u001b[49m\u001b[38;5;124;43m\"\u001b[39;49m\u001b[38;5;124;43mrb\u001b[39;49m\u001b[38;5;124;43m\"\u001b[39;49m\u001b[43m,\u001b[49m\u001b[43m \u001b[49m\u001b[43mstorage_options\u001b[49m\u001b[38;5;241;43m=\u001b[39;49m\u001b[43mstorage_options\u001b[49m\u001b[43m,\u001b[49m\u001b[43m \u001b[49m\u001b[43mis_text\u001b[49m\u001b[38;5;241;43m=\u001b[39;49m\u001b[38;5;28;43;01mFalse\u001b[39;49;00m\n\u001b[0;32m   1404\u001b[0m \u001b[43m\u001b[49m\u001b[43m)\u001b[49m \u001b[38;5;28;01mas\u001b[39;00m handle:\n\u001b[0;32m   1405\u001b[0m     stream \u001b[38;5;241m=\u001b[39m handle\u001b[38;5;241m.\u001b[39mhandle\n\u001b[0;32m   1406\u001b[0m     stream\u001b[38;5;241m.\u001b[39mseek(\u001b[38;5;241m0\u001b[39m)\n",
      "File \u001b[1;32mc:\\Users\\nilst\\anaconda3\\envs\\test_hydroponic\\Lib\\site-packages\\pandas\\io\\common.py:882\u001b[0m, in \u001b[0;36mget_handle\u001b[1;34m(path_or_buf, mode, encoding, compression, memory_map, is_text, errors, storage_options)\u001b[0m\n\u001b[0;32m    873\u001b[0m         handle \u001b[38;5;241m=\u001b[39m \u001b[38;5;28mopen\u001b[39m(\n\u001b[0;32m    874\u001b[0m             handle,\n\u001b[0;32m    875\u001b[0m             ioargs\u001b[38;5;241m.\u001b[39mmode,\n\u001b[1;32m   (...)\u001b[0m\n\u001b[0;32m    878\u001b[0m             newline\u001b[38;5;241m=\u001b[39m\u001b[38;5;124m\"\u001b[39m\u001b[38;5;124m\"\u001b[39m,\n\u001b[0;32m    879\u001b[0m         )\n\u001b[0;32m    880\u001b[0m     \u001b[38;5;28;01melse\u001b[39;00m:\n\u001b[0;32m    881\u001b[0m         \u001b[38;5;66;03m# Binary mode\u001b[39;00m\n\u001b[1;32m--> 882\u001b[0m         handle \u001b[38;5;241m=\u001b[39m \u001b[38;5;28;43mopen\u001b[39;49m\u001b[43m(\u001b[49m\u001b[43mhandle\u001b[49m\u001b[43m,\u001b[49m\u001b[43m \u001b[49m\u001b[43mioargs\u001b[49m\u001b[38;5;241;43m.\u001b[39;49m\u001b[43mmode\u001b[49m\u001b[43m)\u001b[49m\n\u001b[0;32m    883\u001b[0m     handles\u001b[38;5;241m.\u001b[39mappend(handle)\n\u001b[0;32m    885\u001b[0m \u001b[38;5;66;03m# Convert BytesIO or file objects passed with an encoding\u001b[39;00m\n",
      "\u001b[1;31mFileNotFoundError\u001b[0m: [Errno 2] No such file or directory: 'C:\\\\Users\\\\nilst\\\\anaconda3\\\\envs\\\\test_hydroponic\\\\Lib\\\\site-packages\\\\hydroponics\\\\..\\\\..\\\\data\\\\UserData.xlsx'"
     ]
    }
   ],
   "source": [
    "solution_name = \"first_solution\"\n",
    "#modify the excel file\n",
    "\n",
    "first_solution_dict = hp.import_solution_data(solution_name)\n",
    "print(first_solution_dict)"
   ]
  },
  {
   "cell_type": "markdown",
   "metadata": {},
   "source": [
    "**Nice !** Now that we have seen how to create solutions, lets use them to do some chemistry.\n",
    "\n",
    "For instance, if you want to make a solution for your plant that has certain concentration of different ions, the `make_solution` can indicate which salts and which quantities to add to the solution.\n",
    "\n",
    "For instance, the optimal solution for my plant is*:\n",
    "| Ion   | Concentration [g/L] |\n",
    "| ------| --------------|\n",
    "| NH4+   | 0.018 |\n",
    "| Ca(2+)   | 0.09 |\n",
    "| NO3(-)   | 0.728 |\n",
    "| Fe   | 0.0008 |\n",
    "| Mg(2+)   | 0.036 |\n",
    "\n",
    "\n",
    "I want a 5 L solution and I don't want Cl- and Br- ions in the solution because these might be toxic for the plant. \n",
    "Then I can find how much of different salts I have to weigh and add to the solution to get the desired concentrations of the ions.\n",
    "\n",
    "*note that you can give this in in the excel file and make the dict by using `import_solution_data`.\n",
    "\n",
    "In this case this would be:"
   ]
  },
  {
   "cell_type": "code",
   "execution_count": 4,
   "metadata": {},
   "outputs": [
    {
     "ename": "NameError",
     "evalue": "name 'hp' is not defined",
     "output_type": "error",
     "traceback": [
      "\u001b[1;31m---------------------------------------------------------------------------\u001b[0m",
      "\u001b[1;31mNameError\u001b[0m                                 Traceback (most recent call last)",
      "Cell \u001b[1;32mIn[4], line 6\u001b[0m\n\u001b[0;32m      3\u001b[0m solution \u001b[38;5;241m=\u001b[39m {\u001b[38;5;124m\"\u001b[39m\u001b[38;5;124mNH4+\u001b[39m\u001b[38;5;124m\"\u001b[39m:\u001b[38;5;241m0.018\u001b[39m, \u001b[38;5;124m\"\u001b[39m\u001b[38;5;124mCa(2+)\u001b[39m\u001b[38;5;124m\"\u001b[39m: \u001b[38;5;241m0.09\u001b[39m, \u001b[38;5;124m\"\u001b[39m\u001b[38;5;124mNO3(-)\u001b[39m\u001b[38;5;124m\"\u001b[39m: \u001b[38;5;241m0.728\u001b[39m, \u001b[38;5;124m\"\u001b[39m\u001b[38;5;124mFe\u001b[39m\u001b[38;5;124m\"\u001b[39m: \u001b[38;5;241m0.0008\u001b[39m, \u001b[38;5;124m\"\u001b[39m\u001b[38;5;124mMg(2+)\u001b[39m\u001b[38;5;124m\"\u001b[39m: \u001b[38;5;241m0.036\u001b[39m}\n\u001b[0;32m      4\u001b[0m \u001b[38;5;66;03m#alternative use hp.import_solution_data(solution_name) to get the solution dictionary\u001b[39;00m\n\u001b[1;32m----> 6\u001b[0m salts_masses \u001b[38;5;241m=\u001b[39m \u001b[43mhp\u001b[49m\u001b[38;5;241m.\u001b[39mmake_solution(solution, nono_ions, volume)\n\u001b[0;32m      7\u001b[0m \u001b[38;5;28mprint\u001b[39m(salts_masses) \u001b[38;5;66;03m#g\u001b[39;00m\n",
      "\u001b[1;31mNameError\u001b[0m: name 'hp' is not defined"
     ]
    }
   ],
   "source": [
    "volume = 5 #L\n",
    "nono_ions = [\"Cl-\", \"Br-\"]\n",
    "solution = {\"NH4+\":0.018, \"Ca(2+)\": 0.09, \"NO3(-)\": 0.728, \"Fe\": 0.0008, \"Mg(2+)\": 0.036}\n",
    "#alternative use hp.import_solution_data(solution_name) to get the solution dictionary\n",
    "\n",
    "salts_masses = hp.make_solution(solution, nono_ions, volume)\n",
    "print(salts_masses) #g\n"
   ]
  },
  {
   "cell_type": "markdown",
   "metadata": {},
   "source": [
    "If you want to check if a solution is soluble, you can use `check_solubility` to do so.\n",
    "\n",
    "You can either provide a dict of *salts* or a dict of *ions* ans input.\n",
    "The output is either a bool (<span style=\"color:green\">True</span> if soluble and <span style=\"color:red\">False</span> if a salt precipitates), or an analysis of the salts that precipitate.\n"
   ]
  },
  {
   "cell_type": "code",
   "execution_count": null,
   "metadata": {},
   "outputs": [],
   "source": [
    "#create a more concentrated version of the solution of before.\n",
    "concentrated_sol = 100*solution\n",
    "print(hp.check_solubility(solution, input_type=\"ion\", output_type=\"analysis\"))"
   ]
  },
  {
   "cell_type": "markdown",
   "metadata": {},
   "source": [
    "In order to visualise the evolution of the concentration of the ions in the solution as the plant grows, one can use the `plot_graph` method to generate a figure.\n",
    "\n",
    "Using the example from before and a dict for the plant one can obtain: "
   ]
  },
  {
   "cell_type": "code",
   "execution_count": null,
   "metadata": {},
   "outputs": [],
   "source": [
    "plant = {\"NH4+\": 0.01, \"Ca(2+)\": 0.07, \"NO3(-)\": 0.1, \"Fe\": 0.0001, \"Mg(2+)\": 0.01}\n",
    "growth_time = 40 #days\n",
    "\n",
    "hp.plot_graph(solution, \"ion\", plant, growth_time, volume)\n"
   ]
  },
  {
   "cell_type": "code",
   "execution_count": 6,
   "metadata": {},
   "outputs": [
    {
     "name": "stdout",
     "output_type": "stream",
     "text": [
      "Generating report...\n",
      "Collecting the data ...\n"
     ]
    },
    {
     "ename": "FileNotFoundError",
     "evalue": "[Errno 2] No such file or directory: 'C:\\\\Users\\\\nilst\\\\anaconda3\\\\envs\\\\myenv\\\\Lib\\\\site-packages\\\\hydroponics\\\\..\\\\..\\\\data\\\\molar_mass.csv'",
     "output_type": "error",
     "traceback": [
      "\u001b[1;31m---------------------------------------------------------------------------\u001b[0m",
      "\u001b[1;31mFileNotFoundError\u001b[0m                         Traceback (most recent call last)",
      "Cell \u001b[1;32mIn[6], line 9\u001b[0m\n\u001b[0;32m      6\u001b[0m growth_time \u001b[38;5;241m=\u001b[39m \u001b[38;5;241m20\u001b[39m \u001b[38;5;66;03m#days\u001b[39;00m\n\u001b[0;32m      7\u001b[0m forbidden_ions \u001b[38;5;241m=\u001b[39m [\u001b[38;5;124m\"\u001b[39m\u001b[38;5;124mCl-\u001b[39m\u001b[38;5;124m\"\u001b[39m]\n\u001b[1;32m----> 9\u001b[0m \u001b[43mhp\u001b[49m\u001b[38;5;241;43m.\u001b[39;49m\u001b[43mgenerate_report\u001b[49m\u001b[43m(\u001b[49m\u001b[43mplant_name\u001b[49m\u001b[43m,\u001b[49m\u001b[43m \u001b[49m\u001b[43mrequired_nutriments\u001b[49m\u001b[43m,\u001b[49m\u001b[43m \u001b[49m\u001b[43mgrowth_time\u001b[49m\u001b[43m,\u001b[49m\u001b[43m \u001b[49m\u001b[43manalysed_ions\u001b[49m\u001b[43m,\u001b[49m\u001b[43m \u001b[49m\u001b[43msolution\u001b[49m\u001b[43m,\u001b[49m\u001b[43m \u001b[49m\u001b[43mvolume\u001b[49m\u001b[43m,\u001b[49m\u001b[43m \u001b[49m\u001b[43mforbidden_ions\u001b[49m\u001b[43m \u001b[49m\u001b[38;5;241;43m=\u001b[39;49m\u001b[43m \u001b[49m\u001b[43mforbidden_ions\u001b[49m\u001b[43m)\u001b[49m\n",
      "File \u001b[1;32mc:\\Users\\nilst\\anaconda3\\envs\\myenv\\lib\\site-packages\\hydroponics\\Generate_Report.py:147\u001b[0m, in \u001b[0;36mgenerate_report\u001b[1;34m(plant_name, required_nutriments, growth_time, ions_of_interest, solution_composition, solution_volume, forbidden_ions)\u001b[0m\n\u001b[0;32m    144\u001b[0m story\u001b[38;5;241m.\u001b[39mappend(Spacer(\u001b[38;5;241m1\u001b[39m, \u001b[38;5;241m12\u001b[39m))\n\u001b[0;32m    146\u001b[0m \u001b[38;5;66;03m#Add table: \"salts to add in the solution\"\u001b[39;00m\n\u001b[1;32m--> 147\u001b[0m salt_composition \u001b[38;5;241m=\u001b[39m \u001b[43mmake_solution\u001b[49m\u001b[43m(\u001b[49m\u001b[43msolution_composition\u001b[49m\u001b[43m,\u001b[49m\u001b[43m \u001b[49m\u001b[43mforbidden_ions\u001b[49m\u001b[43m \u001b[49m\u001b[43m,\u001b[49m\u001b[43msolution_volume\u001b[49m\u001b[43m)\u001b[49m\n\u001b[0;32m    148\u001b[0m headers \u001b[38;5;241m=\u001b[39m [\u001b[38;5;124m\"\u001b[39m\u001b[38;5;124mSalts\u001b[39m\u001b[38;5;124m\"\u001b[39m]\u001b[38;5;241m+\u001b[39m\u001b[38;5;28mlist\u001b[39m(salt_composition\u001b[38;5;241m.\u001b[39mkeys())\n\u001b[0;32m    149\u001b[0m data \u001b[38;5;241m=\u001b[39m \u001b[38;5;28mlist\u001b[39m(salt_composition\u001b[38;5;241m.\u001b[39mvalues())\n",
      "File \u001b[1;32mc:\\Users\\nilst\\anaconda3\\envs\\myenv\\lib\\site-packages\\hydroponics\\Basic_functions.py:458\u001b[0m, in \u001b[0;36mmake_solution\u001b[1;34m(ions_in_solution, forbidden_ions, volume)\u001b[0m\n\u001b[0;32m    455\u001b[0m     problems \u001b[38;5;241m=\u001b[39m \u001b[38;5;28mset\u001b[39m(ions_in_solution\u001b[38;5;241m.\u001b[39mkeys())\u001b[38;5;241m.\u001b[39mintersection(forbidden_ions)\n\u001b[0;32m    456\u001b[0m     \u001b[38;5;28;01mraise\u001b[39;00m \u001b[38;5;167;01mValueError\u001b[39;00m(\u001b[38;5;124mf\u001b[39m\u001b[38;5;124m\"\u001b[39m\u001b[38;5;124mForbidden ions are required in the solution: \u001b[39m\u001b[38;5;132;01m{\u001b[39;00mproblems\u001b[38;5;132;01m}\u001b[39;00m\u001b[38;5;124m\"\u001b[39m)\n\u001b[1;32m--> 458\u001b[0m molar_ions \u001b[38;5;241m=\u001b[39m {ion: ions_in_solution[ion]\u001b[38;5;241m/\u001b[39mget_molar_mass(ion) \u001b[38;5;28;01mfor\u001b[39;00m ion \u001b[38;5;129;01min\u001b[39;00m ions_in_solution}\n\u001b[0;32m    459\u001b[0m \u001b[38;5;66;03m# Define variables\u001b[39;00m\n\u001b[0;32m    460\u001b[0m possible_salts \u001b[38;5;241m=\u001b[39m []\n",
      "File \u001b[1;32mc:\\Users\\nilst\\anaconda3\\envs\\myenv\\lib\\site-packages\\hydroponics\\Basic_functions.py:458\u001b[0m, in \u001b[0;36m<dictcomp>\u001b[1;34m(.0)\u001b[0m\n\u001b[0;32m    455\u001b[0m     problems \u001b[38;5;241m=\u001b[39m \u001b[38;5;28mset\u001b[39m(ions_in_solution\u001b[38;5;241m.\u001b[39mkeys())\u001b[38;5;241m.\u001b[39mintersection(forbidden_ions)\n\u001b[0;32m    456\u001b[0m     \u001b[38;5;28;01mraise\u001b[39;00m \u001b[38;5;167;01mValueError\u001b[39;00m(\u001b[38;5;124mf\u001b[39m\u001b[38;5;124m\"\u001b[39m\u001b[38;5;124mForbidden ions are required in the solution: \u001b[39m\u001b[38;5;132;01m{\u001b[39;00mproblems\u001b[38;5;132;01m}\u001b[39;00m\u001b[38;5;124m\"\u001b[39m)\n\u001b[1;32m--> 458\u001b[0m molar_ions \u001b[38;5;241m=\u001b[39m {ion: ions_in_solution[ion]\u001b[38;5;241m/\u001b[39m\u001b[43mget_molar_mass\u001b[49m\u001b[43m(\u001b[49m\u001b[43mion\u001b[49m\u001b[43m)\u001b[49m \u001b[38;5;28;01mfor\u001b[39;00m ion \u001b[38;5;129;01min\u001b[39;00m ions_in_solution}\n\u001b[0;32m    459\u001b[0m \u001b[38;5;66;03m# Define variables\u001b[39;00m\n\u001b[0;32m    460\u001b[0m possible_salts \u001b[38;5;241m=\u001b[39m []\n",
      "File \u001b[1;32mc:\\Users\\nilst\\anaconda3\\envs\\myenv\\lib\\site-packages\\hydroponics\\Basic_functions.py:239\u001b[0m, in \u001b[0;36mget_molar_mass\u001b[1;34m(salt)\u001b[0m\n\u001b[0;32m    236\u001b[0m         M \u001b[38;5;241m+\u001b[39m\u001b[38;5;241m=\u001b[39m molar(substing)\n\u001b[0;32m    237\u001b[0m         salt \u001b[38;5;241m=\u001b[39m salt[:left] \u001b[38;5;241m+\u001b[39m salt[right\u001b[38;5;241m+\u001b[39m\u001b[38;5;241m1\u001b[39m:]\n\u001b[1;32m--> 239\u001b[0m total_molar_mass \u001b[38;5;241m=\u001b[39m M \u001b[38;5;241m+\u001b[39m \u001b[43mmolar\u001b[49m\u001b[43m(\u001b[49m\u001b[43msalt\u001b[49m\u001b[43m)\u001b[49m\n\u001b[0;32m    240\u001b[0m \u001b[38;5;28;01mreturn\u001b[39;00m total_molar_mass\n",
      "File \u001b[1;32mc:\\Users\\nilst\\anaconda3\\envs\\myenv\\lib\\site-packages\\hydroponics\\Basic_functions.py:196\u001b[0m, in \u001b[0;36mget_molar_mass.<locals>.molar\u001b[1;34m(molecule)\u001b[0m\n\u001b[0;32m    194\u001b[0m     current_count \u001b[38;5;241m=\u001b[39m \u001b[38;5;241m1\u001b[39m\n\u001b[0;32m    195\u001b[0m     i\u001b[38;5;241m+\u001b[39m\u001b[38;5;241m=\u001b[39m\u001b[38;5;241m2\u001b[39m\n\u001b[1;32m--> 196\u001b[0m     molar_mass \u001b[38;5;241m+\u001b[39m\u001b[38;5;241m=\u001b[39m \u001b[43mget_atom_mass\u001b[49m\u001b[43m(\u001b[49m\u001b[43mcurrent_element\u001b[49m\u001b[43m)\u001b[49m\u001b[38;5;241m*\u001b[39m\u001b[38;5;28mint\u001b[39m(current_count)\n\u001b[0;32m    197\u001b[0m     \u001b[38;5;28;01mcontinue\u001b[39;00m\n\u001b[0;32m    198\u001b[0m \u001b[38;5;28;01mif\u001b[39;00m molecule[i]\u001b[38;5;241m.\u001b[39misupper() \u001b[38;5;129;01mand\u001b[39;00m molecule[i\u001b[38;5;241m+\u001b[39m\u001b[38;5;241m1\u001b[39m]\u001b[38;5;241m.\u001b[39misupper():\n",
      "File \u001b[1;32mc:\\Users\\nilst\\anaconda3\\envs\\myenv\\lib\\site-packages\\hydroponics\\Basic_functions.py:105\u001b[0m, in \u001b[0;36mget_atom_mass\u001b[1;34m(atom_name)\u001b[0m\n\u001b[0;32m    103\u001b[0m \u001b[38;5;66;03m# Define the name of the CSV file\u001b[39;00m\n\u001b[0;32m    104\u001b[0m data_file \u001b[38;5;241m=\u001b[39m load_from_data(\u001b[38;5;124m\"\u001b[39m\u001b[38;5;124mmolar_mass.csv\u001b[39m\u001b[38;5;124m\"\u001b[39m) \u001b[38;5;66;03m#Check path to CSV file\u001b[39;00m\n\u001b[1;32m--> 105\u001b[0m \u001b[38;5;28;01mwith\u001b[39;00m \u001b[38;5;28;43mopen\u001b[39;49m\u001b[43m(\u001b[49m\u001b[43mdata_file\u001b[49m\u001b[43m,\u001b[49m\u001b[43m \u001b[49m\u001b[43mmode\u001b[49m\u001b[38;5;241;43m=\u001b[39;49m\u001b[38;5;124;43m'\u001b[39;49m\u001b[38;5;124;43mr\u001b[39;49m\u001b[38;5;124;43m'\u001b[39;49m\u001b[43m)\u001b[49m \u001b[38;5;28;01mas\u001b[39;00m file:\n\u001b[0;32m    106\u001b[0m     reader \u001b[38;5;241m=\u001b[39m csv\u001b[38;5;241m.\u001b[39mDictReader(file)\n\u001b[0;32m    107\u001b[0m     \u001b[38;5;28;01mfor\u001b[39;00m row \u001b[38;5;129;01min\u001b[39;00m reader:\n",
      "\u001b[1;31mFileNotFoundError\u001b[0m: [Errno 2] No such file or directory: 'C:\\\\Users\\\\nilst\\\\anaconda3\\\\envs\\\\myenv\\\\Lib\\\\site-packages\\\\hydroponics\\\\..\\\\..\\\\data\\\\molar_mass.csv'"
     ]
    }
   ],
   "source": [
    "plant_name = \"Tomato\"\n",
    "required_nutriments = {\"Na+\": 0.1, \"NO3(-)\": 0.5, \"K+\": 0.2}\n",
    "solution = {\"Na+\": 0.2, \"NO3(-)\": 0.6, \"K+\": 0.3}\n",
    "analysed_ions = [\"Na+\", \"NO3(-)\", \"K+\"]\n",
    "volume = 2 #L\n",
    "growth_time = 20 #days\n",
    "forbidden_ions = [\"Cl-\"]\n",
    "\n",
    "hp.generate_report(plant_name, required_nutriments, growth_time, analysed_ions, solution, volume, forbidden_ions = forbidden_ions)"
   ]
  },
  {
   "cell_type": "code",
   "execution_count": null,
   "metadata": {},
   "outputs": [],
   "source": [
    "hp.pH_approximation()\n",
    "\n",
    "hp.plot_graph"
   ]
  },
  {
   "cell_type": "code",
   "execution_count": null,
   "metadata": {},
   "outputs": [],
   "source": []
  }
 ],
 "metadata": {
  "kernelspec": {
   "display_name": "hydroponic_env",
   "language": "python",
   "name": "python3"
  },
  "language_info": {
   "codemirror_mode": {
    "name": "ipython",
    "version": 3
   },
   "file_extension": ".py",
   "mimetype": "text/x-python",
   "name": "python",
   "nbconvert_exporter": "python",
   "pygments_lexer": "ipython3",
   "version": "3.12.3"
  }
 },
 "nbformat": 4,
 "nbformat_minor": 2
}
