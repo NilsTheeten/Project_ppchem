{
 "cells": [
  {
   "cell_type": "markdown",
   "metadata": {},
   "source": [
    "### Importing the package"
   ]
  },
  {
   "cell_type": "markdown",
   "metadata": {},
   "source": [
    "First, make sure you have installed the `hydroponics` package and the necessary dependencies. If not look at the instructions in the `README`"
   ]
  },
  {
   "cell_type": "markdown",
   "metadata": {},
   "source": [
    "Then import the `hydroponics` package by running"
   ]
  },
  {
   "cell_type": "code",
   "execution_count": 3,
   "metadata": {},
   "outputs": [
    {
     "ename": "ModuleNotFoundError",
     "evalue": "No module named 'hydroponics'",
     "output_type": "error",
     "traceback": [
      "\u001b[1;31m---------------------------------------------------------------------------\u001b[0m",
      "\u001b[1;31mModuleNotFoundError\u001b[0m                       Traceback (most recent call last)",
      "Cell \u001b[1;32mIn[3], line 1\u001b[0m\n\u001b[1;32m----> 1\u001b[0m \u001b[38;5;28;01mimport\u001b[39;00m \u001b[38;5;21;01mhydroponics\u001b[39;00m \u001b[38;5;28;01mas\u001b[39;00m \u001b[38;5;21;01mhp\u001b[39;00m\n",
      "\u001b[1;31mModuleNotFoundError\u001b[0m: No module named 'hydroponics'"
     ]
    }
   ],
   "source": [
    "import hydroponics as hp"
   ]
  },
  {
   "cell_type": "markdown",
   "metadata": {},
   "source": [
    "### Start using solutions"
   ]
  },
  {
   "cell_type": "markdown",
   "metadata": {},
   "source": [
    "This package uses dictionnaries to store the composition of a solution or the required nutriments of a plant. \n",
    "In general, the functions require `dict`where the keys are the name of an ion or salt and the values are the concentration in $[g/L]$. One can convert g/L to mol/L and vice-versa (see below). Some functions also accept input in both mass and molar concentrations."
   ]
  },
  {
   "cell_type": "code",
   "execution_count": null,
   "metadata": {},
   "outputs": [],
   "source": [
    "concentration1 = 0.5 #g/L\n",
    "concentration2 = 2 #g/L\n",
    "solution_name = {\"salt1\": concentration1, \"salt2\": concentration2}"
   ]
  },
  {
   "cell_type": "markdown",
   "metadata": {},
   "source": [
    "One can also directly generate solutions from an excel file. Use the `import_solution_data` or `import_plant_data` functions for this. \n",
    "\n",
    "In the UserData.xls file, fill in the *My Solution* sheet with the composition of the solution, then use the following code to initialse the solution dict. The same can be done for a plant dict."
   ]
  },
  {
   "cell_type": "code",
   "execution_count": null,
   "metadata": {},
   "outputs": [],
   "source": [
    "solution_name = \"first_solution\"\n",
    "#modify the excel file\n",
    "\n",
    "first_solution_dict = hp.import_solution_data(solution_name)\n",
    "print(first_solution_dict)"
   ]
  },
  {
   "cell_type": "markdown",
   "metadata": {},
   "source": [
    "**Nice !** Now that we have seen how to create solutions, lets use them to do some chemistry.\n",
    "\n",
    "For instance, if you want to make a solution for your plant that has certain concentration of different ions, the `make_solution` can indicate which salts and which quantities to add to the solution.\n",
    "\n",
    "For instance, the optimal solution for my plant is*:\n",
    "| Ion   | Concentration [g/L] |\n",
    "| ------| --------------|\n",
    "| NH4+   | 0.018 |\n",
    "| Ca(2+)   | 0.09 |\n",
    "| NO3(-)   | 0.728 |\n",
    "| Fe   | 0.0008 |\n",
    "| Mg(2+)   | 0.036 |\n",
    "\n",
    "\n",
    "I want a 5 L solution and I don't want Cl- and Br- ions in the solution because these might be toxic for the plant. \n",
    "Then I can find how much of different salts I have to weigh and add to the solution to get the desired concentrations of the ions.\n",
    "\n",
    "*note that you can give this in in the excel file and make the dict by using `import_solution_data`.\n",
    "\n",
    "In this case this would be:"
   ]
  },
  {
   "cell_type": "code",
   "execution_count": 4,
   "metadata": {},
   "outputs": [
    {
     "ename": "NameError",
     "evalue": "name 'hp' is not defined",
     "output_type": "error",
     "traceback": [
      "\u001b[1;31m---------------------------------------------------------------------------\u001b[0m",
      "\u001b[1;31mNameError\u001b[0m                                 Traceback (most recent call last)",
      "Cell \u001b[1;32mIn[4], line 6\u001b[0m\n\u001b[0;32m      3\u001b[0m solution \u001b[38;5;241m=\u001b[39m {\u001b[38;5;124m\"\u001b[39m\u001b[38;5;124mNH4+\u001b[39m\u001b[38;5;124m\"\u001b[39m:\u001b[38;5;241m0.018\u001b[39m, \u001b[38;5;124m\"\u001b[39m\u001b[38;5;124mCa(2+)\u001b[39m\u001b[38;5;124m\"\u001b[39m: \u001b[38;5;241m0.09\u001b[39m, \u001b[38;5;124m\"\u001b[39m\u001b[38;5;124mNO3(-)\u001b[39m\u001b[38;5;124m\"\u001b[39m: \u001b[38;5;241m0.728\u001b[39m, \u001b[38;5;124m\"\u001b[39m\u001b[38;5;124mFe\u001b[39m\u001b[38;5;124m\"\u001b[39m: \u001b[38;5;241m0.0008\u001b[39m, \u001b[38;5;124m\"\u001b[39m\u001b[38;5;124mMg(2+)\u001b[39m\u001b[38;5;124m\"\u001b[39m: \u001b[38;5;241m0.036\u001b[39m}\n\u001b[0;32m      4\u001b[0m \u001b[38;5;66;03m#alternative use hp.import_solution_data(solution_name) to get the solution dictionary\u001b[39;00m\n\u001b[1;32m----> 6\u001b[0m salts_masses \u001b[38;5;241m=\u001b[39m \u001b[43mhp\u001b[49m\u001b[38;5;241m.\u001b[39mmake_solution(solution, nono_ions, volume)\n\u001b[0;32m      7\u001b[0m \u001b[38;5;28mprint\u001b[39m(salts_masses) \u001b[38;5;66;03m#g\u001b[39;00m\n",
      "\u001b[1;31mNameError\u001b[0m: name 'hp' is not defined"
     ]
    }
   ],
   "source": [
    "volume = 5 #L\n",
    "nono_ions = [\"Cl-\", \"Br-\"]\n",
    "solution = {\"NH4+\":0.018, \"Ca(2+)\": 0.09, \"NO3(-)\": 0.728, \"Fe\": 0.0008, \"Mg(2+)\": 0.036}\n",
    "#alternative use hp.import_solution_data(solution_name) to get the solution dictionary\n",
    "\n",
    "salts_masses = hp.make_solution(solution, nono_ions, volume)\n",
    "print(salts_masses) #g\n"
   ]
  },
  {
   "cell_type": "markdown",
   "metadata": {},
   "source": [
    "If you want to check if a solution is soluble, you can use `check_solubility` to do so.\n",
    "\n",
    "You can either provide a dict of *salts* or a dict of *ions* ans input.\n",
    "The output is either a bool (<span style=\"color:green\">True</span> if soluble and <span style=\"color:red\">False</span> if a salt precipitates), or an analysis of the salts that precipitate.\n"
   ]
  },
  {
   "cell_type": "code",
   "execution_count": null,
   "metadata": {},
   "outputs": [],
   "source": [
    "#create a more concentrated version of the solution of before.\n",
    "concentrated_sol = 100*solution\n",
    "print(hp.check_solubility(solution, input_type=\"ion\", output_type=\"analysis\"))"
   ]
  },
  {
   "cell_type": "markdown",
   "metadata": {},
   "source": [
    "In order to visualise the evolution of the concentration of the ions in the solution as the plant grows, one can use the `plot_graph` method to generate a figure.\n",
    "\n",
    "Using the example from before and a dict for the plant one can obtain: "
   ]
  },
  {
   "cell_type": "code",
   "execution_count": null,
   "metadata": {},
   "outputs": [],
   "source": [
    "plant = {\"NH4+\": 0.01, \"Ca(2+)\": 0.07, \"NO3(-)\": 0.1, \"Fe\": 0.0001, \"Mg(2+)\": 0.01}\n",
    "growth_time = 40 #days\n",
    "\n",
    "hp.plot_graph(solution, \"ion\", plant, growth_time, volume)\n"
   ]
  }
 ],
 "metadata": {
  "kernelspec": {
   "display_name": "hydroponic_env",
   "language": "python",
   "name": "python3"
  },
  "language_info": {
   "codemirror_mode": {
    "name": "ipython",
    "version": 3
   },
   "file_extension": ".py",
   "mimetype": "text/x-python",
   "name": "python",
   "nbconvert_exporter": "python",
   "pygments_lexer": "ipython3",
   "version": "3.10.14"
  }
 },
 "nbformat": 4,
 "nbformat_minor": 2
}
