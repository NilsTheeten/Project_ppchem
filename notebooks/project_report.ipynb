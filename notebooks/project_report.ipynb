{
 "cells": [
  {
   "cell_type": "markdown",
   "metadata": {},
   "source": [
    "<div style=\"text-align: center;\">\n",
    "<p style=\"font-family: 'Baskerville Old Face', 'Times New Roman', Times, serif; font-size: 45px;\">\n",
    "Hydroponics package \n",
    "</p>\n",
    "<p style=\"font-family: 'Baskerville Old Face', 'Times New Roman', Times, serif; font-size: 15px;\">\n",
    "By Nils Theeten and Mathieu Penn  \n",
    "</p>"
   ]
  },
  {
   "cell_type": "markdown",
   "metadata": {},
   "source": [
    "<div style=\"text-align: center;\">\n",
    "    <img src=\"Hydroponics_picture.jpg\" alt=\"Description of the image\" style=\"display: block; margin: 0 auto;\"  width=\"900\" height=\"600\">\n",
    "</div>"
   ]
  },
  {
   "cell_type": "markdown",
   "metadata": {},
   "source": [
    "<div style=\"text-align: justify;\">\n",
    "  <p style=\"font-family: 'Baskerville Old Face', 'Times New Roman', Times, serif; font-size: 23px;\">\n",
    "    <u>Overall purpose of functions</u>\n",
    "  </p>\n",
    "    <p style=\"font-family: 'Baskerville Old Face', 'Times New Roman', Times, serif; font-size: 20px;\">\n",
    "  The functions present within this package are meant to derive values, generate figures, and a report that can help someone in setting up or running a hydroponic farm. Hydroponics is a method of growing plants without soil, using water solutions that have an optimal amount of nurtrients instead. It allows for precise control over the plant's environment, resulting in faster growth and higher yields. Important values this package can derive include, the solubility product of a salt, a pH approximation of the solution, which itself uses the derived concentrations of each species of ions within the solution. pH is important in plant growths as growth at an optimal rate only occurs in a small pH range. \n",
    "  </p>\n",
    "</div>\n"
   ]
  },
  {
   "cell_type": "code",
   "execution_count": 1,
   "metadata": {},
   "outputs": [],
   "source": [
    "import hydroponics as hp"
   ]
  },
  {
   "cell_type": "markdown",
   "metadata": {},
   "source": [
    "<div style=\"text-align: justify;\">\n",
    "  <p style=\"font-family: 'Baskerville Old Face', 'Times New Roman', Times, serif; font-size: 23px;\">\n",
    "    <u>Function to approximate pH</u>\n",
    "  </p>\n",
    "    <p style=\"font-family: 'Baskerville Old Face', 'Times New Roman', Times, serif; font-size: 20px;\">\n",
    "    <u>I.Purpose of function.</u>\n",
    "  </p>\n",
    "  <p style=\"font-family: 'Baskerville Old Face', 'Times New Roman', Times, serif; font-size: 18px;\">\n",
    "    The function to approximate the pH set a multitude of equations based on the dissociation constant for acids, the dissociation constant of hydroxides, the mass balance of the compounds, the charge balance of the solution, and the Kw water constant at a certain temperature which were as follows respectively, \n",
    "  </p>\n",
    "</div>\n",
    "\n",
    "\n"
   ]
  },
  {
   "cell_type": "markdown",
   "metadata": {},
   "source": [
    "$$\n",
    "K_a = \\frac{[\\text{H}^+][\\text{A}^-]}{[\\text{HA}]}\n",
    "$$\n",
    "$$\n",
    "K_{sp} = [\\text{M}^{n+}][\\text{OH}^-]^n\n",
    "$$\n",
    "$$\n",
    "\\begin{align*}\n",
    "C_0 &= [AH]_f + [\\text{A}^-]_f \\quad \\text{and} \\quad \\\n",
    "C_0 &= [\\text{M}^{n+}]_f + [\\text{M(OH)}_n]_f \\quad \\text{and} \\quad \\text{H}^{+} \\text{ as well as } \\text{OH}^{-} \\text{ mass balance}\n",
    "\\end{align*}\n",
    "$$\n",
    "$$\n",
    "\\sum_{i=1}^{n} q_i*C_i=0\n",
    "$$\n",
    "$$\n",
    "Kw=[\\text{H}^+][\\text{OH}^-]\n",
    "$$\n",
    "\n"
   ]
  },
  {
   "cell_type": "markdown",
   "metadata": {},
   "source": [
    "<div style=\"text-align: justify;\">\n",
    "  <p style=\"font-family: 'Baskerville Old Face', 'Times New Roman', Times, serif; font-size: 18px;\">\n",
    "  Note that the initial concentrations C<sub>0</sub>, are not the same for the two equations, and are dependent on the nature of the ion where each ion has its respective initial concentration. [AH]<sub>f</sub> and [A<sup>-</sup>]<sub>f</sub> are the final concentrations of the species of an acid, whilst  [M<sub>n+</sub>]<sub>f</sub> and [M(OH)<sub>n</sub>]<sub>f</sub> are the final concentrations of the metal and metal in its hydroxide form. C<sub>i</sub> was the final concentration of species i within the solution, and q<sub>i</sub> its corresponding charge. The equations for the proton and hydroxide concentrations was not written as it varies widely on the species present within the solution.<br><br>\n",
    " </p>\n",
    "  <p style=\"font-family: 'Baskerville Old Face', 'Times New Roman', Times, serif; font-size: 18px;\">\n",
    "  Although the function pH_approximation was the one to return the pH value, it also depended on the find_acid function which matched the dissociated state of an acid, to the pKa values of that acid and its charge when fully protonated as the dictionaries of pKa values and charges have keys which correspond to the fully protonated form of the acids. The function also found the degree of deprotonation of the species in the solution which was useful for the loops in the pH_approximation function. \n",
    "\n",
    " </p>\n",
    "</div>\n"
   ]
  },
  {
   "cell_type": "markdown",
   "metadata": {},
   "source": [
    "<div style=\"text-align: justify;\">\n",
    "  <p style=\"font-family: 'Baskerville Old Face', 'Times New Roman', Times, serif; font-size: 22px;\">\n",
    "  <u>II.Challenges</u>:</p>\n",
    "  \n",
    "  <p style=\"font-family: 'Baskerville Old Face', 'Times New Roman', Times, serif; font-size: 18px;\">\n",
    "    Dynamically generating these equations proved to be extremely difficult, we frequently encoured type errors at the start as we tried to recall variables we created,  usually  unknown concentrations. The recalled variables would turn out to actually just be text, str form, and not symbols like it should be. exec() was difficult to use as it was complicated to debug, but this was preferred over the usage of a dictionary to store the symbols and recall them, as it would have made the code unredeable and required additional storage being used which wasn't necessary. An example of the usage of exec() can be seen below,<br>\n",
    "\n",
    "<div style=\"font-size: 16px;\">\n",
    "\n",
    "```python\n",
    "    exec(f'equation_Ka_{s}_{i} = Eq((H_plus_concentration*A_{s+1}_{i}_concentration)/A_{s}_{i}_concentration, Ka_{s}_value_of_compound_{i})')\n",
    "```\n",
    "</div>\n",
    "<p style=\"font-family: 'Baskerville Old Face', 'Times New Roman', Times, serif; font-size: 18px;\">\n",
    "From this example, one can see the simultaneous usage of multiple variables which were previously generated dynamically with symbols(), to dynamically generate the equation itself. <br><br>\n",
    "For reasons to yet be determined, despite all the equations being properly generated (list was printed to check, and the types were checked), the system of equations could not find solutions, it returned an empty list. This could be due to them possibly not being solvable algebraically though it should be. In the picture below one can see the result of calling the function with test concentrations (situation was simple enough to predict the pH through calculations by hand, there was only H<sub>2</sub>SO<sub>4</sub>), <br><br><br>\n",
    "  \n",
    "  <img src=\"pH_approximation result.png\" alt=\"\" width=\"900\" height=\"600\"><br><br>\n",
    "\n",
    "<p style=\"font-family: 'Baskerville Old Face', 'Times New Roman', Times, serif; font-size: 18px;\">\n",
    "  The list of the equations is shown from the second line down. One can see all equations being set properly, with A_0_0 corresponding to the concentration of H<sub>2</sub>SO<sub>4</sub>, A_0_1  the concentration of H<sub></sub>SO<sub>4</sub><sup>-</sup> and A_0_2 to that of SO<sub>4</sub><sup>2-</sup>.\n",
    "\n",
    "<p style=\"font-family: 'Baskerville Old Face', 'Times New Roman', Times, serif; font-size: 18px;\">\n",
    "  Polyprotic acids proved to be difficult due to them having multiple dissociation constants and thus multiple equilibria, with the number of those equilibria being, 2, or 3, or possibly more. New loops and conditions, as well as the function find_acid, had to be created to generalise the generation of the equations. Additionally, the respective charges of each state of dissociation had to be determined for the charge balance. For the mass balance of protons, the starting state of dissociation of the acid in the solution had to be determined, so as to determine the sign of the concentration of that state in the mass balance equation of H<sup>+</sup>. The usage of these constants can be seen below,\n",
    "\n",
    "<div style=\"font-size: 16px;\">\n",
    "\n",
    "```python\n",
    "  for s in range(number_of_states_of_dissociation):\n",
    "                    if s!=number_of_states_of_dissociation-1:\n",
    "```\n",
    "\n",
    "  </p>\n",
    "</div>"
   ]
  },
  {
   "cell_type": "markdown",
   "metadata": {},
   "source": [
    "<div style=\"text-align: justify;\">\n",
    "  <p style=\"font-family: 'Baskerville Old Face', 'Times New Roman', Times, serif; font-size: 21px;\">\n",
    "  <u>III.Limitations and possible improvements</u>:</p>\n",
    "    <p style=\"font-family: 'Baskerville Old Face', 'Times New Roman', Times, serif; font-size: 18px;\">\n",
    "  If the pH_approximation function were to be fixed and return approximated pH values, these would be quite approximative due to the assumptions made. One being that the complexation of metal ions within the solution does not occur. Complexations lead to the metal ions having a high charge density which would lead to the polarisation of water molecules bound to it, this could lead to a change in the pH of the solution. Additionally, we assume that the water is pure as we set a starting pH of 7, this assumption is more acceptable however as hydroponic farms usually work with distilled water. Adjustements would have to be made otherwise, the pH of the water used would have to be measured beforehand, and the value collected would then need to be used to set new starting concentrations for H<sup>+</sup> and OH<sup>-</sup>. Perhaps, an API could be used for the pH approximation instead, though currently, no programs using python or deriving an approximation with the data provided by the other functions we made could be found.\n",
    "  </p>\n",
    "</div>"
   ]
  },
  {
   "cell_type": "markdown",
   "metadata": {},
   "source": [
    "<div style=\"text-align: justify;\">\n",
    "  <p style=\"font-family: 'Baskerville Old Face', 'Times New Roman', Times, serif; font-size: 24px;\">\n",
    "    <u>Generation of the pH graph</u>\n",
    "  </p>\n",
    "    <p style=\"font-family: 'Baskerville Old Face', 'Times New Roman', Times, serif; font-size: 20px;\">\n",
    "    <u>I.Purpose of functions involved.</u>\n",
    "  </p>\n",
    "  <p style=\"font-family: 'Baskerville Old Face', 'Times New Roman', Times, serif; font-size: 18px;\">\n",
    "The function pH_part_of_report_generation calls upon two functions, one of which, generation_of_pH_list, generates the list of pH values of the solution throughout time and another list for the days in which the pH exceeded the optimal values for the growth of a plant (this range changes with each plant, and those are contained within a dictionary that is called upon). The second pH_graph, plots the graph of pH over time with the pH range being shown within, and the days where pH was exceeded being marked a different colour. Additionally, a box is plotted by that function that shows the days where the pH was outside of the optimal range and the value of the pH on those days. An example of the graphs generated can be seen below with the corresponding test values,\n",
    "  </p>\n",
    "<div style=\"font-size: 16px;\">\n",
    "\n",
    "```python\n",
    "  # Example of values for testing pH graph\n",
    "pH_values = [6.4, 6.5, 6.8, 6.2, 6.4, 6.4, 6.0, 5.8]\n",
    "Days_where_pH_was_exceeded=[6,7]\n",
    "pH_limit_of_plants = {}\n",
    "pH_limit_of_plants[\"tomatoes\"] = (6.2, 6.8)\n",
    "pH_graph(pH_values,Days_where_pH_was_exceeded,\"tomatoes\")\n",
    "```\n",
    "</div>\n",
    "<br>\n",
    "  <img src=\"pH_graph_report.png\" alt=\"\" width=\"700\" height=\"400\"><br><br>\n",
    "\n",
    "  <img src=\"pH_table_report.png\" alt=\"\" width=\"400\" height=\"200\"><br>\n",
    "\n",
    "  <p style=\"font-family: 'Baskerville Old Face', 'Times New Roman', Times, serif; font-size: 22px;\">\n",
    "  <u>II.Challenges</u>:</p>\n",
    "  \n",
    "  <p style=\"font-family: 'Baskerville Old Face', 'Times New Roman', Times, serif; font-size: 18px;\">\n",
    "There were no particular challenges with these functions except learning how to  save the images on the desired location but even this was not as challenging as the problems encoured for the pH_approximation function. The two figures, graph and table, were saved as seperate images. This allowed for the two to fit into the generated report, that can be made by calling onto another function, more easily and aesthetically. The code derived to save the images at hand was as follows,\n",
    "\n",
    "<div style=\"font-size: 16px;\">\n",
    "\n",
    "```python\n",
    "#Save Graph to the current directory\n",
    "    current_dir = os.path.dirname(os.path.realpath(__file__))\n",
    "    file_name = \"Table_pH\"\n",
    "    file_path = os.path.join(current_dir, file_name)\n",
    "    plt.savefig(file_path + \".png\", format='png')  # Save as a PNG file for matplotlib\n",
    "```\n",
    "</div>"
   ]
  },
  {
   "cell_type": "markdown",
   "metadata": {},
   "source": [
    "<div style=\"text-align: justify;\">\n",
    "  <p style=\"font-family: 'Baskerville Old Face', 'Times New Roman', Times, serif; font-size: 21px;\">\n",
    "  <u>III.Limitations and possible improvements</u>:</p>\n",
    "    <p style=\"font-family: 'Baskerville Old Face', 'Times New Roman', Times, serif; font-size: 18px;\">\n",
    "In the event of the pH_approximation function not returning a value for a certain day, the two functions to generate the figures won't work. THe code should be improved to take into account the possibility of such an event. The biggest limitation is that the graph for now can only generate pH values over days and not other time formats. To fix this, almost all functions should have a 'frequency' or 'time_interval' constant that determines either the number of times per day that values need to be generated or the time between two consecutive values. The time interval function would look something like this, \n",
    "<div style=\"font-size: 16px;\">\n",
    "\n",
    "```python\n",
    "  def time_interval_calc(frequency):\n",
    "    return time_interval=1/frequency #time interval in days (frequency is assumed to have units:per day)\n",
    "```\n",
    "</div>\n",
    "  </p>\n",
    "</div>"
   ]
  },
  {
   "cell_type": "markdown",
   "metadata": {},
   "source": [
    "<div style=\"text-align: justify;\">\n",
    "  <p style=\"font-family: 'Baskerville Old Face', 'Times New Roman', Times, serif; font-size: 23px;\">\n",
    "    <u>Function to find the composition of a solution</u>\n",
    "  </p>\n",
    "    <p style=\"font-family: 'Baskerville Old Face', 'Times New Roman', Times, serif; font-size: 20px;\">\n",
    "    <u>I.Purpose of function.</u>\n",
    "  </p>\n",
    "  <p style=\"font-family: 'Baskerville Old Face', 'Times New Roman', Times, serif; font-size: 18px;\">\n",
    "  The function \"make_solution\" enables the user too find which salts and how mush of each salt to add to a solution to obtain a desired concentration of ions.\n",
    "  In particular, the user provides a dict containing the ions and their concentration [g/L] and make_solution returns a dict of salts and their mass [g] to add to the solution.\n",
    "  <br>\n",
    "  The user can additionally provide a list of ions that can not be present in the final solution. This can be useful if some ions a toxic for a plant (for example Br-)\n",
    "  </p>\n",
    "</div>"
   ]
  },
  {
   "cell_type": "code",
   "execution_count": 3,
   "metadata": {},
   "outputs": [
    {
     "name": "stdout",
     "output_type": "stream",
     "text": [
      "{'(NH4)H2PO4': 0.573880402451356, 'Ca(NO3)2': 1.84237486900544, 'KNO3': 3.66492597705553, 'MgSO4': 0.676635920712917, 'MgCl2': 0.169861228904617}\n"
     ]
    }
   ],
   "source": [
    "volume = 5 #L\n",
    "no_no_no_ions =  [\"Br-\"]\n",
    "solution = {\"NH4+\":0.018, \"Ca(2+)\": 0.09, \"NO3(-)\": 0.728, \"SO4(2-)\": 0.108, \"Mg(2+)\": 0.036}\n",
    "#alternative use hp.import_solution_data(solution_name) to get the solution dictionary\n",
    "\n",
    "salts_masses = hp.make_solution(solution, no_no_no_ions, volume)\n",
    "print(salts_masses) #g"
   ]
  },
  {
   "cell_type": "markdown",
   "metadata": {},
   "source": [
    "<div style=\"text-align: justify;\">\n",
    "  <p style=\"font-family: 'Baskerville Old Face', 'Times New Roman', Times, serif; font-size: 22px;\">\n",
    "  <u>II.Challenges</u>:</p>\n",
    "  \n",
    "  <p style=\"font-family: 'Baskerville Old Face', 'Times New Roman', Times, serif; font-size: 18px;\">\n",
    "    The function sets up a system of N equations a N variables to solve this problem. This system is then solved with sympy.\n",
    "    <br>\n",
    "    First salts are chosen from a list a predefinded salts that are commercially available and which contain ions that are required.\n",
    "    <br>\n",
    "    The first list is filtered to only keep soluble salts at the provided conditions.\n",
    "    <br>\n",
    "    Finally the list filtered to keep N salts, where all the ions are represented. \n",
    "    The system is set up and is first solved for positive solutions. If sympy doesn't find positive solutions, all solutions are tried and if still no solution is found, a Value error is raised.\n",
    "  </p>\n",
    "<div style=\"font-size: 16px;\">"
   ]
  },
  {
   "cell_type": "markdown",
   "metadata": {},
   "source": [
    "<div style=\"text-align: justify;\">\n",
    "  <p style=\"font-family: 'Baskerville Old Face', 'Times New Roman', Times, serif; font-size: 21px;\">\n",
    "  <u>III.Limitations and possible improvements</u>:</p>\n",
    "    <p style=\"font-family: 'Baskerville Old Face', 'Times New Roman', Times, serif; font-size: 18px;\">\n",
    "The selection process of the salts could be improved to contain:<br>\n",
    "    - selection based on the price of the salts<br>\n",
    "    - selection based on the toxicity/environmental impact of the salt<br>\n",
    "    - selection based on salts that have multiple required ions <br>\n",
    "<br>\n",
    "<br>\n",
    "Furthermore, to ensure that the function finds a solution, the function could loop through to try other combination of salts.\n",
    "</p>\n",
    "</div> "
   ]
  },
  {
   "cell_type": "markdown",
   "metadata": {},
   "source": [
    "<div style=\"text-align: justify;\">\n",
    "  <p style=\"font-family: 'Baskerville Old Face', 'Times New Roman', Times, serif; font-size: 23px;\">\n",
    "    <u>Function to check the solubility</u>\n",
    "  </p>\n",
    "    <p style=\"font-family: 'Baskerville Old Face', 'Times New Roman', Times, serif; font-size: 20px;\">\n",
    "    <u>I.Purpose of function.</u>\n",
    "  </p>\n",
    "  <p style=\"font-family: 'Baskerville Old Face', 'Times New Roman', Times, serif; font-size: 18px;\">\n",
    "  The function \"check_solubility\" enables the user to check if a solution is soluble. This is extremely important for hydroponics since unsoluble salts are unavailable to the plant.\n",
    "  <br>\n",
    "  In particular, the user provides a dict containing the ions or salts and their concentration [g/L] and check_solubility either returns True/false or an analysis of which salts precipitate.\n",
    "  <br>\n",
    "  See the example below of a usecase:\n",
    "  </p>\n",
    "</div>"
   ]
  },
  {
   "cell_type": "code",
   "execution_count": 4,
   "metadata": {},
   "outputs": [
    {
     "name": "stdout",
     "output_type": "stream",
     "text": [
      "For the concentrated solution: The following salts precipitate: Ca(NO3)2    MgSO4    Mg(NO3)2    \n",
      "For the diluted solution: all salts are soluble\n"
     ]
    }
   ],
   "source": [
    "#create a more concentrated and diluted version of the solution of before.\n",
    "concentrated_sol = {ion : conc*10000 for ion, conc in solution.items()} #concentrate by 10'000x\n",
    "diluted_sol = {ion : conc/2 for ion, conc in solution.items()} #dilute by 2x\n",
    "\n",
    "#Check the solubility of the solution\n",
    "\n",
    "print(f\"For the concentrated solution: {hp.check_solubility(concentrated_sol, input_type=\"ion\", output_type=\"analysis\")}\")\n",
    "print(f\"For the diluted solution: {hp.check_solubility(diluted_sol, input_type=\"ion\", output_type=\"analysis\")}\")"
   ]
  },
  {
   "cell_type": "markdown",
   "metadata": {},
   "source": [
    "<div style=\"text-align: justify;\">\n",
    "  <p style=\"font-family: 'Baskerville Old Face', 'Times New Roman', Times, serif; font-size: 22px;\">\n",
    "  <u>II.Challenges</u>:</p>\n",
    "  \n",
    "  <p style=\"font-family: 'Baskerville Old Face', 'Times New Roman', Times, serif; font-size: 18px;\">\n",
    "    The function find out if Q > Ksp or Q <= Ksp. For this the functions get_Q_solubility and get_Ksp are called. Their values are compared and the expected result is returned.\n",
    "    <br>\n",
    "    <br>\n",
    "    For get_G_solubility, some equilibrium calculations are done based on the dict that is provided.\n",
    "    <br><br>\n",
    "    For get_Ksp, the function computed the equilibrium constant from a database of solubilities [g/100mL]. \n",
    "    This database in provided within the packge (solubilities_data.csv file) adn was scriped from a Wikipeida website (see README)\n",
    "    <br><br>\n",
    "    In order to convert g --> mol, a built-in molar mass calculator was used. This function uses a CVS file containing atom masses to compute the molecular mass based on some selection rules.\n",
    "  </p>\n",
    "</div>"
   ]
  },
  {
   "cell_type": "markdown",
   "metadata": {},
   "source": [
    "<div style=\"text-align: justify;\">\n",
    "  <p style=\"font-family: 'Baskerville Old Face', 'Times New Roman', Times, serif; font-size: 21px;\">\n",
    "  <u>III.Limitations and possible improvements</u>:</p>\n",
    "    <p style=\"font-family: 'Baskerville Old Face', 'Times New Roman', Times, serif; font-size: 18px;\">\n",
    "The main limitation of this function is the database used. While the database contains over 600 salts, if the salt used by the user is not in the database,\n",
    "a Value error will be raised. It turned out quite difficult to find very big and accurate databases.\n",
    "An example is shown below:\n",
    "<br>\n",
    "<br>\n",
    "In the end, this function was found to work quite well if the salt was provided in the database.\n",
    "</p>\n",
    "</div>\n",
    "  \n"
   ]
  },
  {
   "cell_type": "code",
   "execution_count": 6,
   "metadata": {},
   "outputs": [
    {
     "ename": "KeyError",
     "evalue": "'KF'",
     "output_type": "error",
     "traceback": [
      "\u001b[1;31m---------------------------------------------------------------------------\u001b[0m",
      "\u001b[1;31mKeyError\u001b[0m                                  Traceback (most recent call last)",
      "Cell \u001b[1;32mIn[6], line 1\u001b[0m\n\u001b[1;32m----> 1\u001b[0m \u001b[43mhp\u001b[49m\u001b[38;5;241;43m.\u001b[39;49m\u001b[43mget_Ksp\u001b[49m\u001b[43m(\u001b[49m\u001b[38;5;124;43m\"\u001b[39;49m\u001b[38;5;124;43mKF\u001b[39;49m\u001b[38;5;124;43m\"\u001b[39;49m\u001b[43m)\u001b[49m\n",
      "File \u001b[1;32mc:\\Users\\nilst\\anaconda3\\envs\\test_hydroponic\\Lib\\site-packages\\hydroponics\\Basic_functions.py:358\u001b[0m, in \u001b[0;36mget_Ksp\u001b[1;34m(salt_name)\u001b[0m\n\u001b[0;32m    355\u001b[0m mol_sol \u001b[38;5;241m=\u001b[39m solubility\u001b[38;5;241m/\u001b[39mget_molar_mass(salt_name) \u001b[38;5;66;03m#mol/L\u001b[39;00m\n\u001b[0;32m    357\u001b[0m \u001b[38;5;66;03m#Ksp = n^n * m^m * mol_sol^(n+m) for salt of type nXmY\u001b[39;00m\n\u001b[1;32m--> 358\u001b[0m ions \u001b[38;5;241m=\u001b[39m \u001b[43msalt2nbIons\u001b[49m\u001b[43m[\u001b[49m\u001b[43msalt_name\u001b[49m\u001b[43m]\u001b[49m\n\u001b[0;32m    359\u001b[0m \u001b[38;5;28;01mif\u001b[39;00m \u001b[38;5;28mlen\u001b[39m(ions) \u001b[38;5;241m<\u001b[39m\u001b[38;5;241m=\u001b[39m\u001b[38;5;241m1\u001b[39m:\n\u001b[0;32m    360\u001b[0m     Ksp \u001b[38;5;241m=\u001b[39m mol_sol\n",
      "\u001b[1;31mKeyError\u001b[0m: 'KF'"
     ]
    }
   ],
   "source": [
    "hp.get_Ksp(\"KF\")"
   ]
  },
  {
   "cell_type": "markdown",
   "metadata": {},
   "source": [
    "<div style=\"text-align: justify;\">\n",
    "  <p style=\"font-family: 'Baskerville Old Face', 'Times New Roman', Times, serif; font-size: 23px;\">\n",
    "    <u>Function plot concentrations and generate report</u>\n",
    "  </p>\n",
    "    <p style=\"font-family: 'Baskerville Old Face', 'Times New Roman', Times, serif; font-size: 20px;\">\n",
    "    <u>I.Purpose of functions.</u>\n",
    "  </p>\n",
    "  <p style=\"font-family: 'Baskerville Old Face', 'Times New Roman', Times, serif; font-size: 18px;\">\n",
    "  The functions \"plot_graph\" and \"generate_report\" enables the user to visualise the simulation that is done.\n",
    "  <br> <br>\n",
    "  plot_graph: makes a graphic of the concentration(s) of ions in the solutions as a funtion of time (growth of the plant). <br>\n",
    "  It takes a solution dict, a plant dict and an ions_of_interest list as arguments.\n",
    "  <br><br>\n",
    "  generate_report: generates a PDF file in the current directory containing a lot of important information about the simulation.\n",
    "  <br>\n",
    "  In particular, the reportlab package is used to create the PDF. The functio call pretty much all the other functions of the package and includes the results that are returned.\n",
    "  <br><br>\n",
    "  The PDF is organized as follows: <br>\n",
    "     - 1. Simulation conditions: general informations about Volume, ions, concentrations, temperature, and approximations made <br>\n",
    "     - 2. Preparation of the solution: a table showing how to prepare the solution<br>\n",
    "     - 3. Ion concentration elvolution: a graph generated with plot_graph<br>\n",
    "     - 4. pH of the solution: a figure showing the pH as a function of time, and a table showing problematic pH levels<br>\n",
    "  <br><br>\n",
    "  --> See the example PDF report in the notebooks folder<br>\n",
    "  --> See the concentrations figure below\n",
    "\n",
    "  </p>\n",
    "</div>\n",
    "\n",
    "  <img src=\"Ion_concentrations2.jpg\" alt=\"\" width=\"400\" height=\"200\"><br><br>\n",
    "\n",
    "  <img src=\"Ion_concentrations2.jpg\" alt=\"\" width=\"400\" height=\"200\"><br>"
   ]
  },
  {
   "cell_type": "markdown",
   "metadata": {},
   "source": [
    "<div style=\"text-align: justify;\">\n",
    "  <p style=\"font-family: 'Baskerville Old Face', 'Times New Roman', Times, serif; font-size: 22px;\">\n",
    "  <u>II.Challenges</u>:</p>\n",
    "  \n",
    "  <p style=\"font-family: 'Baskerville Old Face', 'Times New Roman', Times, serif; font-size: 18px;\">\n",
    "    For the plot_graph function, the difficulty resided in finding an efficient way of generating, storing and visualizing the data.\n",
    "    <br>\n",
    "    The method chosen was to create a list of dictionaries, where each dict represents the concentrations of ion for a day.\n",
    "    One could then easily plot the concentrations from this list. This method is however rather slow and not efficient.\n",
    "    <br>\n",
    "    <br>\n",
    "    For generate_report, the main difficulty was the use reportlab which was confusing in the beginning.\n",
    "    <br>\n",
    "    Then another difficuty is the time it takes for a PDF to be generated (around 20 seconds). \n",
    "  </p>\n",
    "<div style=\"font-size: 16px;\">"
   ]
  },
  {
   "cell_type": "markdown",
   "metadata": {},
   "source": [
    "Thank you for reading this project report until the end.\n",
    "For a detailed documentation of the functions please follow this link --> [Documentation](https://nilstheeten.github.io/Project_ppchem/index.html)\n",
    "\n",
    "Please contact us if you have any questions or remarks:\n",
    "\n",
    "nils.theeten@epfl.ch\n",
    "\n",
    "mathieu.penn@epfl.ch"
   ]
  }
 ],
 "metadata": {
  "kernelspec": {
   "display_name": "hydroponic_env",
   "language": "python",
   "name": "python3"
  },
  "language_info": {
   "codemirror_mode": {
    "name": "ipython",
    "version": 3
   },
   "file_extension": ".py",
   "mimetype": "text/x-python",
   "name": "python",
   "nbconvert_exporter": "python",
   "pygments_lexer": "ipython3",
   "version": "3.12.3"
  }
 },
 "nbformat": 4,
 "nbformat_minor": 2
}
