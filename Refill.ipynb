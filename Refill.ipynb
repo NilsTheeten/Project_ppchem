{
 "cells": [
  {
   "cell_type": "code",
   "execution_count": null,
   "id": "695b57c8-85e3-49d1-a19e-908acd5849a9",
   "metadata": {},
   "outputs": [],
   "source": [
    "\n",
    "import time\n",
    "\n",
    "def Concentration_Checker(frequency):\n",
    "    print(\"Monitoring of Concentration started at:\", time.time())\n",
    "\n",
    "# Converts frequency in number of times per day to per second (e.g., 2 times per second)\n",
    "frequency =frequency/(24*60*60) # calls per second\n",
    "\n",
    "# Calculate the time interval between function calls\n",
    "time_interval = 1 / frequency\n",
    "\n",
    "while True:\n",
    "    Refill_of_container(concentration_of_ions, desired_ion_concentrations, acceptable_maximum_percentage_deviation_from_optimal, optimal_ion_concentrations)\n",
    "    time.sleep(time_interval)    \n",
    "\n",
    "\n",
    "\n",
    "def Refill_of_container(concentration_of_ions, desired_ion_concentrations, acceptable_maximum_percentage_deviation_from_optimal, optimal_ion_concentrations):\n",
    "    for ion, concentration in concentration_of_ions:\n",
    "        if (concentration-optimal_ion_concentrations[ion])/optimal_ion_concentrations[ion]*100>acceptable_maximum_percentage_deviation_from_optimal:\n",
    "            continue\n",
    "        return \"Concentrations within solution are optimal\"\n",
    "    Ion_quantities_to_add={}\n",
    "    for ion, concentration in concentration_of_ions:\n",
    "        if ion in desired_ion_concentration:\n",
    "            concentration_to_add=desired_ion_concentrations[ion]-concentration_of_ions[ion]\n",
    "            Ion_quantities_to_add.update(ion, concentration_to_add)\n",
    "    return Ion_quantities_to_add\n",
    "            \n",
    "    "
   ]
  }
 ],
 "metadata": {
  "kernelspec": {
   "display_name": "Python 3 (ipykernel)",
   "language": "python",
   "name": "python3"
  },
  "language_info": {
   "codemirror_mode": {
    "name": "ipython",
    "version": 3
   },
   "file_extension": ".py",
   "mimetype": "text/x-python",
   "name": "python",
   "nbconvert_exporter": "python",
   "pygments_lexer": "ipython3",
   "version": "3.11.5"
  }
 },
 "nbformat": 4,
 "nbformat_minor": 5
}
