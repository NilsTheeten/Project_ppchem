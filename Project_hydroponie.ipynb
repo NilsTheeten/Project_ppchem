   {
   "cell_type": "code",
   "execution_count": 4,
   "metadata": {},
   "outputs": [],
   "source": [
    "#Importations\n",
    "import math"
   ]
  },
  {
   "cell_type": "code",
   "execution_count": 5,
   "metadata": {},
   "outputs": [
    {
     "name": "stdout",
     "output_type": "stream",
     "text": [
      "0.493 [g/L] Magnesium sulfate\n"
     ]
    }
   ],
   "source": [
    "Hoagland_composition = {\n",
    "    # Macroelements:\n",
    "\n",
    "    \"Ca(NO3)2\" : 0.945, #[g/L] calcium nitrate\n",
    "    \"MgSO4\" : 0.493, #[g/L] Magnesium sulfate\n",
    "    \"KNO3\" : 0.493, #[g/L] Potassium nitrate \n",
    "    \"KH2PO4\" : 0.136, #[g/L] Monopotassium phosphate\n",
    "    \n",
    "    #Microelements:\n",
    "\n",
    "    \"H3BO3\" : 0.0465, #[g/L] Boric acid\n",
    "    \"MnCl2\" : 0.0223, #[g/L] Manganese chloride\n",
    "    \"ZnSO4\" : 0.0086, # [g/L] Zinc sulfate\n",
    "    \"CuSO4\" : 0.000025, #[g/L] Copper sulfate\n",
    "    \"(NH4)6Mo7O24\" : 0.000025, #[g/L] Ammonium molybdate\n",
    "    \"C10H12FeN2NaO8\" : 0.0373, # [g/L] Iron(III) EDTA\n",
    "\n",
    "}\n",
    "print(f'{Hoagland_composition[\"MgSO4\"]} [g/L] Magnesium sulfate' )"
   ]
  },
  {
   "cell_type": "code",
   "execution_count": 6,
   "metadata": {},
   "outputs": [],
   "source": [
    "#Plants, quantity [g] of each nutriments conained in a fully grown plant\n",
    "potato_nutriments = {\n",
    "    \"Ca\": 0.013,\n",
    "    \"Mg\": 0.023,\n",
    "    \"K\": 0.429,\n",
    "    \"P\": 0.057,\n",
    "    \"B\": 0,  # No data available\n",
    "    \"Mn\": 0,  # No data available\n",
    "    \"Zn\": 0.001, \n",
    "    \"Cu\": 0,  # No data available\n",
    "    \"Mo\": 0,  # No data available\n",
    "    \"Fe\": 0   # No data available\n",
    "}\n",
    "\n",
    "sweet_potato_nutriments = {\n",
    "    \"Ca\": 0.028,\n",
    "    \"Mg\": 0.027,\n",
    "    \"K\": 0.337,\n",
    "    \"P\": 0.047,\n",
    "    \"B\": 0,  # No data available\n",
    "    \"Mn\": 0,  # No data available\n",
    "    \"Zn\": 0,  # No data available\n",
    "    \"Cu\": 0,  # No data available\n",
    "    \"Mo\": 0,  # No data available\n",
    "    \"Fe\": 0   # No data available\n",
    "}\n",
    "\n",
    "lettuce_iceberg_data = {\n",
    "    \"Ca\": 0.021,\n",
    "    \"Mg\": 0.010,\n",
    "    \"K\": 0.238,\n",
    "    \"P\": 0.020,\n",
    "    \"B\": 0.050,\n",
    "    \"Mn\": 0.0002,\n",
    "    \"Zn\": 0.0002,\n",
    "    \"Cu\": 0.00008,\n",
    "    \"Mo\": 0,  # No data available\n",
    "    \"Fe\": 0.0008\n",
    "}\n",
    "\n",
    "lettuce_butterhead_data = {\n",
    "    \"Ca\": 0.036,\n",
    "    \"Mg\": 0.013,\n",
    "    \"K\": 0.296,\n",
    "    \"P\": 0.026,\n",
    "    \"B\": 0.050,\n",
    "    \"Mn\": 0.0003,\n",
    "    \"Zn\": 0.0003,\n",
    "    \"Cu\": 0.00005,\n",
    "    \"Mo\": 0,  # No data available\n",
    "    \"Fe\": 0.0012\n",
    "}\n",
    "\n",
    "soybean_data = {\n",
    "    \"Ca\": 0.180,\n",
    "    \"Mg\": 0.230,\n",
    "    \"K\": 1.680,\n",
    "    \"P\": 0.110,\n",
    "    \"B\": 0.500,\n",
    "    \"Mn\": 0.043,\n",
    "    \"Zn\": 0.043,\n",
    "    \"Cu\": 0.006,\n",
    "    \"Mo\": 0.120,\n",
    "    \"Fe\": 0.180\n",
    "}\n",
    "\n",
    "\n"
   ]
  },
  {
   "cell_type": "code",
   "execution_count": 7,
   "metadata": {},
   "outputs": [],
   "source": [
    "#Classes\n",
    "\n",
    "class Plant:\n",
    "    def __init__(self, name, price: float, growth_time: float, salt_needs: dict):\n",
    "        \"\"\"\n",
    "        Name: common name (english)\n",
    "        Price: USD\n",
    "        Growth_time: [days]\n",
    "        salt_needs: dictionary with keys as salt names and values as the amount of salt needed in g/L for a fully grown plant\n",
    "        \"\"\"\n",
    "        self.name = name\n",
    "        self.price = price\n",
    "        self.growth_time = growth_time\n",
    "        self.salt_needs = salt_needs\n",
    "        \n",
    "#example:\n",
    "plant1 = Plant(\"Tomato\", 5.0, 30.0, {\"K\": 0.5, \"Cl\": 0.5})\n",
    "\n",
    "class Solution:\n",
    "    def __init__(self, name, salt_dict):\n",
    "        self.name = name\n",
    "        self.salt_dict = salt_dict\n",
    "    def price(self, volume):\n",
    "        price = 0\n",
    "        for salt in self.salt_dict:\n",
    "            price += self.salt_dict[salt]\n",
    "        return price\n",
    "    \n",
    "#example:\n",
    "Hoagland = Solution(\"Hoagland\", {\"K\": 0.5, \"Cl\": 0.5})"
   ]
  },
  {
   "cell_type": "code",
   "execution_count": 8,
   "metadata": {},
   "outputs": [],
   "source": [
    "#Data provided by user\n",
    "\n",
    "optimal_solution = Hoagland_composition; #can define specific solution (dict)\n",
    "Volume = 10 # [L]\n",
    "plant = \"S\"\n"
   ]
  },
  {
   "cell_type": "code",
   "execution_count": 9,
   "metadata": {},
   "outputs": [],
   "source": [
    "#Data\n",
    "#Get from Pubchem, Github,...\n",
    "\n",
    "dict_salts_trad = {\n",
    "    \"Ca(NO3)2\": {\"Ca\": 1, \"NO3\": 2},\n",
    "    \"MgSO4\": {\"Mg\": 1, \"SO4\": 1},\n",
    "    \"KNO3\": {\"K\": 1, \"NO3\": 1},\n",
    "    \"KH2PO4\": {\"K\": 1, \"P\": 1},\n",
    "    \"H3BO3\": {\"B\": 1},\n",
    "    \"MnCl2\": {\"Mn\": 1, \"Cl\": 2},\n",
    "    \"ZnSO4\": {\"Zn\": 1, \"SO4\": 1},\n",
    "    \"CuSO4\": {\"Cu\": 1, \"SO4\": 1},\n",
    "    \"(NH4)6Mo7O24\": {\"NH4\" : 6, \"Mo\": 7},\n",
    "    \"C10H12FeN2NaO8\": {\"Fe\": 1, \"Na\": 1, \"EDTA\": 1}\n",
    "    \n",
    "}\n",
    "\n",
    "dict_solubility_salts = {\n",
    "    \"KCl\" : 339.7 #g/L\n",
    "    \n",
    "}\n",
    "\n",
    "dict_molar_mass = {\n",
    "    \"KCl\" : 74.555 #g/mol\n",
    "}\n",
    "\n",
    "dict_pKa_salts = {\n",
    "    \"KCl\" : 7.2\n",
    "    \n",
    "}\n",
    "\n"
   ]
  },
  {
   "cell_type": "code",
   "execution_count": 10,
   "metadata": {},
   "outputs": [
    {
     "name": "stdout",
     "output_type": "stream",
     "text": [
      "{'Ca': 0.945, 'NO3': 2.383, 'Mg': 0.493, 'SO4': 0.50163, 'K': 0.629, 'P': 0.136, 'B': 0.0465, 'Mn': 0.0223, 'Cl': 0.0446, 'Zn': 0.0086, 'Cu': 3e-05, 'NH4': 0.00015, 'Mo': 0.00017, 'Fe': 0.0373, 'Na': 0.0373, 'EDTA': 0.0373}\n"
     ]
    }
   ],
   "source": [
    "def trad_salt_elements(solution):\n",
    "    elements = {}\n",
    "    for salt in solution:\n",
    "        if salt in dict_salts_trad:\n",
    "            for element in dict_salts_trad[salt]:\n",
    "                if element in elements:\n",
    "                    elements[element] += round(dict_salts_trad[salt][element]*solution[salt], 5)\n",
    "                else:\n",
    "                    elements[element] = round(dict_salts_trad[salt][element]*solution[salt], 5)\n",
    "        else:\n",
    "            print(f\"Salt {salt} not found in the database\")\n",
    "            break\n",
    "            \n",
    "            \n",
    "    return elements\n",
    "#Example\n",
    "print(trad_salt_elements(Hoagland_composition))"
   ]
  },
  {
   "cell_type": "code",
   "execution_count": 11,
   "metadata": {},
   "outputs": [
    {
     "name": "stdout",
     "output_type": "stream",
     "text": [
      "3\n",
      "{'Ca': 9.411, 'NO3': 23.83, 'Mg': 4.861, 'SO4': 5.0163, 'K': 5.003, 'P': 1.189, 'B': 0.46499999999999997, 'Mn': 0.223, 'Cl': 0.446, 'Zn': 0.08299999999999999, 'Cu': 0.00030000000000000003, 'NH4': 0.0014999999999999998, 'Mo': 0.0017000000000000001, 'Fe': 0.373, 'Na': 0.373, 'EDTA': 0.373}\n"
     ]
    }
   ],
   "source": [
    "def check_supply_elements(solution, volume, plant, quantity) -> int:\n",
    "    \n",
    "    sol_elements = {n: volume * trad_salt_elements(solution)[n] for n in trad_salt_elements(solution).keys()}\n",
    "    for element in plant:\n",
    "        if plant[element]*quantity > sol_elements[element]:\n",
    "            quantity = math.floor(sol_elements[element]/plant[element])\n",
    "    \n",
    "    return quantity\n",
    "            \n",
    "            \n",
    "\n",
    "\n",
    "def update_sol (solution: dict, volume: float , plant: dict, quantity: int):\n",
    "    \"\"\"\n",
    "    First check quantity with the check_supply_elements function\n",
    "    Updates the solution (elements removed) when a plant is fully grown\n",
    "    Volume: float [L]\n",
    "    quantity: number of plants that are grown\n",
    "    \"\"\"\n",
    "    sol_elements = {n: volume * trad_salt_elements(solution)[n] for n in trad_salt_elements(solution).keys()}\n",
    "    for element in plant:        \n",
    "        sol_elements[element] -= plant[element]*quantity\n",
    "     \n",
    "    \n",
    "    return sol_elements\n",
    "\n",
    "#Example\n",
    "nb = check_supply_elements(Hoagland_composition, 10, lettuce_iceberg_data, 10)\n",
    "print(nb)\n",
    "print(update_sol(Hoagland_composition,10,  potato_nutriments, nb))"
   ]
  },
  {
   "cell_type": "code",
   "execution_count": 12,
   "metadata": {},
   "outputs": [],
   "source": [
    "\n",
    "def pH_solution (salts_dict: dict) -> float:\n",
    "    \"\"\"\n",
    "    Calculate pH of a solution of salts\n",
    "    \"\"\""
   ]
  },
  {
   "cell_type": "code",
   "execution_count": 13,
   "metadata": {},
   "outputs": [],
   "source": [
    "def check_solubility (salts_dict: dict) -> bool:\n",
    "    \"\"\"\n",
    "    Check if the salts mixture is soluble\n",
    "    \"\"\""
   ]
  },
  {
   "cell_type": "code",
   "execution_count": 14,
   "metadata": {},
   "outputs": [],
   "source": [
    "def plant_needs (plant_name, salt) -> str:\n",
    "    \"\"\"\n",
    "    Returns final recommendations for the plant\n",
    "    \"\"\""
   ]
  }
 ],
 "metadata": {
  "kernelspec": {
   "display_name": "base",
   "language": "python",
   "name": "python3"
  },
  "language_info": {
   "codemirror_mode": {
    "name": "ipython",
    "version": 3
   },
   "file_extension": ".py",
   "mimetype": "text/x-python",
   "name": "python",
   "nbconvert_exporter": "python",
   "pygments_lexer": "ipython3",
   "version": "3.11.5"
  }
 },
 "nbformat": 4,
 "nbformat_minor": 2
}
